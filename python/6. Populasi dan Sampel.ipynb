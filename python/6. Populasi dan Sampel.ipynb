{
 "cells": [
  {
   "cell_type": "markdown",
   "id": "128e5ba8",
   "metadata": {},
   "source": [
    "### Simple Random Sampling"
   ]
  },
  {
   "cell_type": "code",
   "execution_count": 1,
   "id": "dadae9c0",
   "metadata": {},
   "outputs": [
    {
     "name": "stdout",
     "output_type": "stream",
     "text": [
      "sampel: [109, 50, 98, 114, 54, 6, 34, 66, 63, 52, 118, 101]\n"
     ]
    }
   ],
   "source": [
    "# Import modul random\n",
    "import random\n",
    "\n",
    "# Set seed sebagai bilangan bulat 0, dan dapat diganti\n",
    "# dengan bilangan bulat lainnya\n",
    "random.seed(0)\n",
    "\n",
    "# Ambil sampel dalam rentang butir data, yaitu 1 s/d 120\n",
    "# Inisialisasi sampel\n",
    "sampel = []\n",
    "# Looping sebanyak sampel yang ingin ditarik yaitu 10% (12 butir data)\n",
    "for i in range(12): \n",
    "    sampel.append(random.randint(1, 120))\n",
    "# Cetaklah sampel\n",
    "print(\"sampel:\", sampel)"
   ]
  },
  {
   "cell_type": "code",
   "execution_count": 2,
   "id": "f528fbb7",
   "metadata": {},
   "outputs": [
    {
     "name": "stdout",
     "output_type": "stream",
     "text": [
      "sampel: [ 45  48 118  65  68  68 104  10  84  22 115  37]\n"
     ]
    }
   ],
   "source": [
    "# Import numpy sebagai aliasnya np\n",
    "import numpy as np\n",
    "\n",
    "# Set seed sebagai bilangan bulat 0, dan dapat diganti\n",
    "# dengan bilangan bulat lainnya\n",
    "np.random.seed(0)\n",
    "\n",
    "# Ambil sampel dalam rentang butir data, yaitu 1 s/d 120,\n",
    "# sebanyak 10% (12 butir data)\n",
    "sampel = np.random.randint(1, 121, size=12)\n",
    "# Cetaklah sampel\n",
    "print(\"sampel:\", sampel)"
   ]
  },
  {
   "cell_type": "markdown",
   "id": "6e61841b",
   "metadata": {},
   "source": [
    "### Menentukan Jumlah Sampel"
   ]
  },
  {
   "cell_type": "code",
   "execution_count": 3,
   "id": "fac5677e",
   "metadata": {},
   "outputs": [
    {
     "name": "stdout",
     "output_type": "stream",
     "text": [
      "Jumlah sampel: 280\n"
     ]
    }
   ],
   "source": [
    "# Import math\n",
    "import math\n",
    "# Jumlah anggota populasi\n",
    "N = 8963\n",
    "# Proporsi\n",
    "p = 0.25\n",
    "# z-score\n",
    "z = 1.96\n",
    "# Margin of error\n",
    "e = 0.05\n",
    "# Perhitungan ukuran sampel, n\n",
    "n_aksen = z**2 * p * (1 - p) / e**2\n",
    "n = n_aksen / (1 + (n_aksen / N))\n",
    "# Cetak jumlah sampel\n",
    "print(\"Jumlah sampel:\", math.ceil(n))"
   ]
  },
  {
   "cell_type": "markdown",
   "id": "92eaccd2",
   "metadata": {},
   "source": [
    "### Problem 1\n",
    "\n",
    "link case https://academy.dqlab.id/main/livecode/361/824/4430?pr=0"
   ]
  },
  {
   "cell_type": "code",
   "execution_count": 5,
   "id": "de956626",
   "metadata": {},
   "outputs": [
    {
     "name": "stdout",
     "output_type": "stream",
     "text": [
      "Ukuran sampel untuk setiap variasi selang kepercayaan\n",
      "+--------------------+---------------+\n",
      "| Selang kepercayaan | Jumlah sampel |\n",
      "+--------------------+---------------+\n",
      "|             0.700  |            81 |\n",
      "|             0.750  |            99 |\n",
      "|             0.800  |           122 |\n",
      "|             0.850  |           153 |\n",
      "|             0.920  |           224 |\n",
      "|             0.950  |           280 |\n",
      "|             0.960  |           305 |\n",
      "|             0.980  |           390 |\n",
      "|             0.990  |           473 |\n",
      "|             0.999  |           745 |\n",
      "+--------------------+---------------+\n"
     ]
    }
   ],
   "source": [
    "# Import numpy sebagai aliasnya np\n",
    "import numpy as np\n",
    "# Jumlah anggota populasi\n",
    "N = 8963\n",
    "# Proporsi\n",
    "p = 0.25\n",
    "# Selang kepercayaan (confidence interval)\n",
    "ci = [0.70, 0.75, 0.80, 0.85, 0.92, 0.95, 0.96, 0.98, 0.99, 0.999]\n",
    "# z-score\n",
    "z = [1.04, 1.15, 1.28, 1.44, 1.75, 1.96, 2.05, 2.33, 2.58, 3.29]\n",
    "z = np.array(z)\n",
    "# Margin of error\n",
    "e = 0.05\n",
    "# Perhitungan ukuran sampel, n\n",
    "n_aksen = z**2 * p * (1 - p) / e**2\n",
    "n = np.ceil(n_aksen / (1 + (n_aksen / N)))\n",
    "# Cetak ukuran sampel untuk setiap variasi selang kepercayaan\n",
    "print(\"Ukuran sampel untuk setiap variasi selang kepercayaan\")\n",
    "print(\"+--------------------+---------------+\")\n",
    "print(\"| Selang kepercayaan | Jumlah sampel |\")\n",
    "print(\"+--------------------+---------------+\")\n",
    "for ci_, n_ in zip(ci, n):\n",
    "    print(\"| %17.3f  | %13d |\" % (ci_, n_))\n",
    "print(\"+--------------------+---------------+\")"
   ]
  },
  {
   "cell_type": "markdown",
   "id": "1bacc19e",
   "metadata": {},
   "source": [
    "### Problem 2\n",
    "\n",
    "link case https://academy.dqlab.id/main/livecode/361/824/4431?pr=0"
   ]
  },
  {
   "cell_type": "code",
   "execution_count": 6,
   "id": "1c996d7e",
   "metadata": {},
   "outputs": [
    {
     "name": "stdout",
     "output_type": "stream",
     "text": [
      "Ukuran sampel untuk setiap variasi margin galat\n",
      "+--------------+---------------+\n",
      "| Margin galat | Jumlah sampel |\n",
      "+--------------+---------------+\n",
      "|         0.01 |          3994 |\n",
      "|         0.02 |          1500 |\n",
      "|         0.05 |           280 |\n",
      "|         0.10 |            72 |\n",
      "|         0.20 |            18 |\n",
      "|         0.25 |            12 |\n",
      "|         0.33 |             7 |\n",
      "|         0.50 |             3 |\n",
      "+--------------+---------------+\n"
     ]
    }
   ],
   "source": [
    "# Import numpy sebagai aliasnya\n",
    "import numpy as np\n",
    "# Jumlah anggota populasi\n",
    "N = 8963\n",
    "# Proporsi\n",
    "p = 0.25\n",
    "# Selang kepercayaan (confidence interval) ci = 0.95\n",
    "# dengan z-score sebesar\n",
    "z =  1.96\n",
    "# Margin of error\n",
    "e = np.array([0.01, 0.02, 0.05, 0.10, 0.20, 0.25, 0.33, 0.50])\n",
    "# Perhitungan ukuran sampel, n\n",
    "n_aksen = z**2 * p * (1 - p) / e**2\n",
    "n = np.ceil(n_aksen / (1 + (n_aksen / N)))\n",
    "# Cetak ukuran sampel untuk setiap variasi margin galat\n",
    "print(\"Ukuran sampel untuk setiap variasi margin galat\")\n",
    "print(\"+--------------+---------------+\")\n",
    "print(\"| Margin galat | Jumlah sampel |\")\n",
    "print(\"+--------------+---------------+\")\n",
    "for e_, n_ in zip(e, n):\n",
    "    print(\"| %12.2f | %13d |\" % (e_, n_))\n",
    "print(\"+--------------+---------------+\")"
   ]
  }
 ],
 "metadata": {
  "kernelspec": {
   "display_name": "Python 3 (ipykernel)",
   "language": "python",
   "name": "python3"
  },
  "language_info": {
   "codemirror_mode": {
    "name": "ipython",
    "version": 3
   },
   "file_extension": ".py",
   "mimetype": "text/x-python",
   "name": "python",
   "nbconvert_exporter": "python",
   "pygments_lexer": "ipython3",
   "version": "3.10.7"
  }
 },
 "nbformat": 4,
 "nbformat_minor": 5
}
