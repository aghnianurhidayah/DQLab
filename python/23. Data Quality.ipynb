{
 "cells": [
  {
   "cell_type": "code",
   "execution_count": 1,
   "id": "566efec5",
   "metadata": {},
   "outputs": [],
   "source": [
    "import pandas as pd\n",
    "import numpy as np\n",
    "import io\n",
    "import matplotlib.pyplot as plt"
   ]
  },
  {
   "cell_type": "code",
   "execution_count": 2,
   "id": "bd1d1573",
   "metadata": {},
   "outputs": [],
   "source": [
    "# Baca dataset uncleaned_raw.csv\n",
    "uncleaned_raw = pd.read_csv('https://storage.googleapis.com/dqlab-dataset/uncleaned_raw.csv')"
   ]
  },
  {
   "cell_type": "code",
   "execution_count": 3,
   "id": "8e1b3733",
   "metadata": {},
   "outputs": [
    {
     "name": "stdout",
     "output_type": "stream",
     "text": [
      "Lima data teratas:\n",
      "   InvoiceNo                          Description  Quantity     InvoiceDate  \\\n",
      "0     536365   WHITE HANGING HEART T-LIGHT HOLDER       6.0  12/01/10 08.26   \n",
      "1     536366                  WHITE METAL LANTERN       6.0  12/01/10 08.26   \n",
      "2     536367       CREAM CUPID HEARTS COAT HANGER       8.0  12/01/10 08.26   \n",
      "3     536368  KNITTED UNION FLAG HOT WATER BOTTLE       6.0  12/01/10 08.26   \n",
      "4     536369       RED WOOLLY HOTTIE WHITE HEART.       6.0  12/01/10 08.26   \n",
      "\n",
      "   UnitPrice  CustomerID      City  \n",
      "0      29000       17850  Surabaya  \n",
      "1      41000       17850  Surabaya  \n",
      "2      18000       17850  Surabaya  \n",
      "3      38000       17850   Jakarta  \n",
      "4      27000       17850     Medan  \n"
     ]
    }
   ],
   "source": [
    "#inspeksi dataframe uncleaned_raw\n",
    "print('Lima data teratas:') \n",
    "print(uncleaned_raw.head())"
   ]
  },
  {
   "cell_type": "code",
   "execution_count": 4,
   "id": "a2b80d5d",
   "metadata": {},
   "outputs": [
    {
     "name": "stdout",
     "output_type": "stream",
     "text": [
      "\n",
      "Kolom dengan missing value:\n",
      "InvoiceNo      False\n",
      "Description    False\n",
      "Quantity        True\n",
      "InvoiceDate    False\n",
      "UnitPrice      False\n",
      "CustomerID     False\n",
      "City           False\n",
      "dtype: bool\n"
     ]
    }
   ],
   "source": [
    "#Check kolom yang mengandung missing value\n",
    "print('\\nKolom dengan missing value:') \n",
    "print(uncleaned_raw.isnull().any())"
   ]
  },
  {
   "cell_type": "code",
   "execution_count": 5,
   "id": "9c3e0ecc",
   "metadata": {},
   "outputs": [],
   "source": [
    "#Persentase missing value\n",
    "length_qty = len(uncleaned_raw['Quantity'])\n",
    "count_qty = uncleaned_raw['Quantity'].count()\n",
    "\n",
    "#mengurangi length dengan count\n",
    "number_of_missing_values_qty = length_qty - count_qty\n",
    "\n",
    "#mengubah ke bentuk float\n",
    "float_of_missing_values_qty = float(number_of_missing_values_qty / length_qty) \n",
    "\n",
    "#mengubah ke dalam bentuk persen\n",
    "pct_of_missing_values_qty = '{0:.1f}%'.format(float_of_missing_values_qty * 100) "
   ]
  },
  {
   "cell_type": "code",
   "execution_count": 6,
   "id": "b5516dc9",
   "metadata": {},
   "outputs": [
    {
     "name": "stdout",
     "output_type": "stream",
     "text": [
      "Persentase missing value kolom Quantity: 4.0%\n"
     ]
    }
   ],
   "source": [
    "#print hasil percent dari missing value\n",
    "print('Persentase missing value kolom Quantity:', pct_of_missing_values_qty)"
   ]
  },
  {
   "cell_type": "code",
   "execution_count": 7,
   "id": "5d991a0a",
   "metadata": {},
   "outputs": [],
   "source": [
    "#Mengisi missing value tersebut dengan mean dari kolom tersebut\n",
    "uncleaned_raw['Quantity'] = uncleaned_raw['Quantity'].fillna(uncleaned_raw['Quantity'].mean())"
   ]
  },
  {
   "cell_type": "code",
   "execution_count": 8,
   "id": "e0360609",
   "metadata": {},
   "outputs": [
    {
     "data": {
      "image/png": "[encoded data removed]",
      "text/plain": [
       "<Figure size 640x480 with 1 Axes>"
      ]
     },
     "metadata": {},
     "output_type": "display_data"
    }
   ],
   "source": [
    "plt.style.use('default')\n",
    "\n",
    "uncleaned_raw['Quantity'] = uncleaned_raw['Quantity'].fillna(uncleaned_raw['Quantity'].mean())\n",
    "\n",
    "#Mengetahui kolom yang memiliki outliers!\n",
    "uncleaned_raw.boxplot()\n",
    "plt.show()"
   ]
  },
  {
   "cell_type": "code",
   "execution_count": 9,
   "id": "2cdaa56b",
   "metadata": {},
   "outputs": [
    {
     "data": {
      "text/plain": [
       "16000.0"
      ]
     },
     "execution_count": 9,
     "metadata": {},
     "output_type": "execute_result"
    }
   ],
   "source": [
    "#Check IQR\n",
    "Q1 = uncleaned_raw['UnitPrice'].quantile(0.25)\n",
    "Q3 = uncleaned_raw['UnitPrice'].quantile(0.75)\n",
    "IQR = Q3 - Q1\n",
    "\n",
    "IQR"
   ]
  },
  {
   "cell_type": "code",
   "execution_count": 10,
   "id": "997fbbb0",
   "metadata": {},
   "outputs": [],
   "source": [
    "#removing outliers\n",
    "uncleaned_raw = uncleaned_raw[~((uncleaned_raw[['UnitPrice']] < (Q1 - 1.5 * IQR )) | (uncleaned_raw[['UnitPrice']] > (Q3 - 1.5 * IQR)))]"
   ]
  },
  {
   "cell_type": "code",
   "execution_count": 11,
   "id": "911029b6",
   "metadata": {},
   "outputs": [
    {
     "name": "stdout",
     "output_type": "stream",
     "text": [
      "0      False\n",
      "1       True\n",
      "2       True\n",
      "3       True\n",
      "4       True\n",
      "       ...  \n",
      "500     True\n",
      "501     True\n",
      "502     True\n",
      "503     True\n",
      "504     True\n",
      "Length: 505, dtype: bool\n"
     ]
    }
   ],
   "source": [
    "#check for duplication\n",
    "print(uncleaned_raw.duplicated(subset=None))"
   ]
  },
  {
   "cell_type": "code",
   "execution_count": 12,
   "id": "51e50cad",
   "metadata": {},
   "outputs": [],
   "source": [
    "#remove duplication\n",
    "uncleaned_raw = uncleaned_raw.drop_duplicates()"
   ]
  }
 ],
 "metadata": {
  "kernelspec": {
   "display_name": "dqlab",
   "language": "python",
   "name": "dqlab"
  },
  "language_info": {
   "codemirror_mode": {
    "name": "ipython",
    "version": 3
   },
   "file_extension": ".py",
   "mimetype": "text/x-python",
   "name": "python",
   "nbconvert_exporter": "python",
   "pygments_lexer": "ipython3",
   "version": "3.10.7"
  }
 },
 "nbformat": 4,
 "nbformat_minor": 5
}
