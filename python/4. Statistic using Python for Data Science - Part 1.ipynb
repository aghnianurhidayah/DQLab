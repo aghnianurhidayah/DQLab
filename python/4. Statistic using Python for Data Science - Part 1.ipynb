{
 "cells": [
  {
   "cell_type": "code",
   "execution_count": 54,
   "id": "df3bc87a",
   "metadata": {},
   "outputs": [
    {
     "name": "stdout",
     "output_type": "stream",
     "text": [
      "    ID Pelanggan     Nama  Jenis Kelamin  Pendapatan Produk   Harga  Jumlah   \\\n",
      "0              1     Arif              1      600000      A  100000        4   \n",
      "1              2     Dian              2     1200000      D  250000        4   \n",
      "2              3    Dinda              2      950000      D  250000        3   \n",
      "3              4    Fajar              1      400000      A  100000        2   \n",
      "4              5      Ika              2     1200000      D  250000        4   \n",
      "5              6    Ilham              1      800000      B  150000        4   \n",
      "6              7    Indra              1      950000      B  150000        5   \n",
      "7              8  Kartika              2     1100000      E  300000        3   \n",
      "8              9  Lestari              2      800000      E  300000        2   \n",
      "9             10      Lia              2     1700000      E  300000        5   \n",
      "10            11    Maria              2      600000      A  100000        4   \n",
      "11            12     Maya              2      950000      B  150000        5   \n",
      "12            13     Mila              2      400000      C  200000        1   \n",
      "13            14    Nurul              2     6450000      D  250000        5   \n",
      "14            15    Retno              2     1000000      C  200000        4   \n",
      "15            16     Rini              2      800000      B  150000        4   \n",
      "16            17    Rizki              1     1200000      C  200000        5   \n",
      "17            18     Sari              2      700000      D  250000        2   \n",
      "18            19     Tyas              2      600000      A  100000        4   \n",
      "19            20    Wahyu              1      800000      C  200000        3   \n",
      "\n",
      "      Total  Tingkat Kepuasan  \n",
      "0    400000                 2  \n",
      "1   1000000                 2  \n",
      "2    750000                 3  \n",
      "3    200000                 3  \n",
      "4   1000000                 2  \n",
      "5    600000                 3  \n",
      "6    750000                 1  \n",
      "7    900000                 3  \n",
      "8    600000                 1  \n",
      "9   1500000                 1  \n",
      "10   400000                 3  \n",
      "11   750000                 3  \n",
      "12   200000                 2  \n",
      "13  1250000                 1  \n",
      "14   800000                 2  \n",
      "15   600000                 1  \n",
      "16  1000000                 3  \n",
      "17   500000                 1  \n",
      "18   400000                 3  \n",
      "19   600000                 1  \n"
     ]
    }
   ],
   "source": [
    "# load library\n",
    "import pandas as pd\n",
    "import numpy as np\n",
    "# memuat data bernama 'dataset_statistics.csv' dan memasukkan hasilnya ke dalam 'raw_data'\n",
    "raw_data = pd.read_csv(\"https://storage.googleapis.com/dqlab-dataset/dataset_statistic.csv\", sep=';')\n",
    "\n",
    "print (raw_data)"
   ]
  },
  {
   "cell_type": "code",
   "execution_count": 55,
   "id": "d5850b0f",
   "metadata": {},
   "outputs": [
    {
     "name": "stdout",
     "output_type": "stream",
     "text": [
      "   ID Pelanggan     Nama  Jenis Kelamin  Pendapatan Produk   Harga  Jumlah   \\\n",
      "0             1     Arif              1      600000      A  100000        4   \n",
      "1             2     Dian              2     1200000      D  250000        4   \n",
      "2             3    Dinda              2      950000      D  250000        3   \n",
      "3             4    Fajar              1      400000      A  100000        2   \n",
      "4             5      Ika              2     1200000      D  250000        4   \n",
      "5             6    Ilham              1      800000      B  150000        4   \n",
      "6             7    Indra              1      950000      B  150000        5   \n",
      "7             8  Kartika              2     1100000      E  300000        3   \n",
      "8             9  Lestari              2      800000      E  300000        2   \n",
      "9            10      Lia              2     1700000      E  300000        5   \n",
      "\n",
      "     Total  Tingkat Kepuasan  \n",
      "0   400000                 2  \n",
      "1  1000000                 2  \n",
      "2   750000                 3  \n",
      "3   200000                 3  \n",
      "4  1000000                 2  \n",
      "5   600000                 3  \n",
      "6   750000                 1  \n",
      "7   900000                 3  \n",
      "8   600000                 1  \n",
      "9  1500000                 1  \n"
     ]
    }
   ],
   "source": [
    "# melihat 10 data pada baris pertama\n",
    "print (raw_data.head(10))"
   ]
  },
  {
   "cell_type": "code",
   "execution_count": 56,
   "id": "6750e2c1",
   "metadata": {},
   "outputs": [
    {
     "name": "stdout",
     "output_type": "stream",
     "text": [
      "    ID Pelanggan   Nama  Jenis Kelamin  Pendapatan Produk   Harga  Jumlah   \\\n",
      "15            16   Rini              2      800000      B  150000        4   \n",
      "16            17  Rizki              1     1200000      C  200000        5   \n",
      "17            18   Sari              2      700000      D  250000        2   \n",
      "18            19   Tyas              2      600000      A  100000        4   \n",
      "19            20  Wahyu              1      800000      C  200000        3   \n",
      "\n",
      "      Total  Tingkat Kepuasan  \n",
      "15   600000                 1  \n",
      "16  1000000                 3  \n",
      "17   500000                 1  \n",
      "18   400000                 3  \n",
      "19   600000                 1  \n"
     ]
    }
   ],
   "source": [
    "# melihat 5 data pada baris terakhir\n",
    "print (raw_data.tail())"
   ]
  },
  {
   "cell_type": "code",
   "execution_count": 57,
   "id": "6478f886",
   "metadata": {},
   "outputs": [
    {
     "name": "stdout",
     "output_type": "stream",
     "text": [
      "(20, 9)\n"
     ]
    }
   ],
   "source": [
    "# melihat dimensi dari raw_data\n",
    "print (raw_data.shape)"
   ]
  },
  {
   "cell_type": "code",
   "execution_count": 58,
   "id": "ad570687",
   "metadata": {},
   "outputs": [
    {
     "name": "stdout",
     "output_type": "stream",
     "text": [
      "20\n"
     ]
    }
   ],
   "source": [
    "# mengambil jumlah data\n",
    "print (raw_data.shape[0])"
   ]
  },
  {
   "cell_type": "code",
   "execution_count": 59,
   "id": "b709b63e",
   "metadata": {},
   "outputs": [
    {
     "name": "stdout",
     "output_type": "stream",
     "text": [
      "Index(['ID Pelanggan', 'Nama', 'Jenis Kelamin', 'Pendapatan', 'Produk',\n",
      "       'Harga', 'Jumlah ', 'Total', 'Tingkat Kepuasan'],\n",
      "      dtype='object')\n"
     ]
    }
   ],
   "source": [
    "# melihat kolom dari dataset\n",
    "print(raw_data.columns)"
   ]
  },
  {
   "cell_type": "code",
   "execution_count": 60,
   "id": "fba37e77",
   "metadata": {},
   "outputs": [
    {
     "name": "stdout",
     "output_type": "stream",
     "text": [
      "    ID Pelanggan   Nama  Jenis Kelamin  Pendapatan  Produk  Harga  Jumlah   \\\n",
      "0          False  False          False       False   False  False    False   \n",
      "1          False  False          False       False   False  False    False   \n",
      "2          False  False          False       False   False  False    False   \n",
      "3          False  False          False       False   False  False    False   \n",
      "4          False  False          False       False   False  False    False   \n",
      "5          False  False          False       False   False  False    False   \n",
      "6          False  False          False       False   False  False    False   \n",
      "7          False  False          False       False   False  False    False   \n",
      "8          False  False          False       False   False  False    False   \n",
      "9          False  False          False       False   False  False    False   \n",
      "10         False  False          False       False   False  False    False   \n",
      "11         False  False          False       False   False  False    False   \n",
      "12         False  False          False       False   False  False    False   \n",
      "13         False  False          False       False   False  False    False   \n",
      "14         False  False          False       False   False  False    False   \n",
      "15         False  False          False       False   False  False    False   \n",
      "16         False  False          False       False   False  False    False   \n",
      "17         False  False          False       False   False  False    False   \n",
      "18         False  False          False       False   False  False    False   \n",
      "19         False  False          False       False   False  False    False   \n",
      "\n",
      "    Total  Tingkat Kepuasan  \n",
      "0   False             False  \n",
      "1   False             False  \n",
      "2   False             False  \n",
      "3   False             False  \n",
      "4   False             False  \n",
      "5   False             False  \n",
      "6   False             False  \n",
      "7   False             False  \n",
      "8   False             False  \n",
      "9   False             False  \n",
      "10  False             False  \n",
      "11  False             False  \n",
      "12  False             False  \n",
      "13  False             False  \n",
      "14  False             False  \n",
      "15  False             False  \n",
      "16  False             False  \n",
      "17  False             False  \n",
      "18  False             False  \n",
      "19  False             False  \n",
      "ID Pelanggan        0\n",
      "Nama                0\n",
      "Jenis Kelamin       0\n",
      "Pendapatan          0\n",
      "Produk              0\n",
      "Harga               0\n",
      "Jumlah              0\n",
      "Total               0\n",
      "Tingkat Kepuasan    0\n",
      "dtype: int64\n"
     ]
    }
   ],
   "source": [
    "# melihat nilai null pada dataset\n",
    "print (raw_data.isna())\n",
    "print (raw_data.isna().sum())"
   ]
  },
  {
   "cell_type": "code",
   "execution_count": 61,
   "id": "0a08afe8",
   "metadata": {},
   "outputs": [
    {
     "name": "stdout",
     "output_type": "stream",
     "text": [
      "       ID Pelanggan  Jenis Kelamin    Pendapatan          Harga    Jumlah   \\\n",
      "count      20.00000      20.000000  2.000000e+01      20.000000  20.000000   \n",
      "mean       10.50000       1.700000  1.160000e+06  197500.000000   3.650000   \n",
      "std         5.91608       0.470162  1.282842e+06   69726.910912   1.182103   \n",
      "min         1.00000       1.000000  4.000000e+05  100000.000000   1.000000   \n",
      "25%         5.75000       1.000000  6.750000e+05  150000.000000   3.000000   \n",
      "50%        10.50000       2.000000  8.750000e+05  200000.000000   4.000000   \n",
      "75%        15.25000       2.000000  1.125000e+06  250000.000000   4.250000   \n",
      "max        20.00000       2.000000  6.450000e+06  300000.000000   5.000000   \n",
      "\n",
      "              Total  Tingkat Kepuasan  \n",
      "count  2.000000e+01         20.000000  \n",
      "mean   7.100000e+05          2.050000  \n",
      "std    3.338768e+05          0.887041  \n",
      "min    2.000000e+05          1.000000  \n",
      "25%    4.750000e+05          1.000000  \n",
      "50%    6.750000e+05          2.000000  \n",
      "75%    9.250000e+05          3.000000  \n",
      "max    1.500000e+06          3.000000  \n"
     ]
    }
   ],
   "source": [
    "# melihat ringkasan data\n",
    "print (raw_data.describe())"
   ]
  },
  {
   "cell_type": "code",
   "execution_count": 62,
   "id": "c06a885d",
   "metadata": {},
   "outputs": [
    {
     "data": {
      "text/plain": [
       "ID Pelanggan             20\n",
       "Nama                  Wahyu\n",
       "Jenis Kelamin             2\n",
       "Pendapatan          6450000\n",
       "Produk                    E\n",
       "Harga                300000\n",
       "Jumlah                    5\n",
       "Total               1500000\n",
       "Tingkat Kepuasan          3\n",
       "dtype: object"
      ]
     },
     "execution_count": 62,
     "metadata": {},
     "output_type": "execute_result"
    }
   ],
   "source": [
    "# Mencari nilai maksimum dari tiap kolom\n",
    "raw_data.max()"
   ]
  },
  {
   "cell_type": "code",
   "execution_count": 63,
   "id": "f33944a3",
   "metadata": {},
   "outputs": [
    {
     "data": {
      "text/plain": [
       "300000"
      ]
     },
     "execution_count": 63,
     "metadata": {},
     "output_type": "execute_result"
    }
   ],
   "source": [
    "# Mencari nilai maksimum dari kolom 'Harga'\n",
    "raw_data['Harga'].max()"
   ]
  },
  {
   "cell_type": "code",
   "execution_count": 64,
   "id": "5dc9c6e2",
   "metadata": {},
   "outputs": [
    {
     "data": {
      "text/plain": [
       "100000"
      ]
     },
     "execution_count": 64,
     "metadata": {},
     "output_type": "execute_result"
    }
   ],
   "source": [
    "# Mencari nilai minimum dari kolom 'Harga'\n",
    "raw_data['Harga'].min()"
   ]
  },
  {
   "cell_type": "code",
   "execution_count": 65,
   "id": "060dc4e2",
   "metadata": {},
   "outputs": [
    {
     "name": "stdout",
     "output_type": "stream",
     "text": [
      "ID Pelanggan                                                      210\n",
      "Nama                ArifDianDindaFajarIkaIlhamIndraKartikaLestariL...\n",
      "Jenis Kelamin                                                      34\n",
      "Pendapatan                                                   23200000\n",
      "Produk                                           ADDADBBEEEABCDCBCDAC\n",
      "Harga                                                         3950000\n",
      "Jumlah                                                             73\n",
      "Total                                                        14200000\n",
      "Tingkat Kepuasan                                                   41\n",
      "dtype: object\n"
     ]
    }
   ],
   "source": [
    "# menghitung jumlah dari semua kolom\n",
    "print (raw_data.sum())"
   ]
  },
  {
   "cell_type": "code",
   "execution_count": 66,
   "id": "53cecf15",
   "metadata": {},
   "outputs": [
    {
     "data": {
      "text/plain": [
       "ID Pelanggan             210\n",
       "Jenis Kelamin             34\n",
       "Pendapatan          23200000\n",
       "Harga                3950000\n",
       "Jumlah                    73\n",
       "Total               14200000\n",
       "Tingkat Kepuasan          41\n",
       "dtype: int64"
      ]
     },
     "execution_count": 66,
     "metadata": {},
     "output_type": "execute_result"
    }
   ],
   "source": [
    "# menghitung jumlah dari semua kolom bertipe data numerik saja\n",
    "raw_data.sum(numeric_only=True)"
   ]
  },
  {
   "cell_type": "code",
   "execution_count": 67,
   "id": "11f6bbc1",
   "metadata": {},
   "outputs": [
    {
     "data": {
      "text/plain": [
       "Harga          3950000\n",
       "Pendapatan    23200000\n",
       "dtype: int64"
      ]
     },
     "execution_count": 67,
     "metadata": {},
     "output_type": "execute_result"
    }
   ],
   "source": [
    "# menghitung jumlah dari kolom 'Harga' dan 'Pendapatan'\n",
    "raw_data[['Harga', 'Pendapatan']].sum()"
   ]
  },
  {
   "cell_type": "code",
   "execution_count": 68,
   "id": "45994ade",
   "metadata": {},
   "outputs": [
    {
     "name": "stdout",
     "output_type": "stream",
     "text": [
      "0      600000\n",
      "1     1200000\n",
      "2      950000\n",
      "3      400000\n",
      "4     1200000\n",
      "5      800000\n",
      "6      950000\n",
      "7     1100000\n",
      "8      800000\n",
      "9     1700000\n",
      "10     600000\n",
      "11     950000\n",
      "12     400000\n",
      "13    6450000\n",
      "14    1000000\n",
      "15     800000\n",
      "16    1200000\n",
      "17     700000\n",
      "18     600000\n",
      "19     800000\n",
      "Name: Pendapatan, dtype: int64\n"
     ]
    }
   ],
   "source": [
    "# Memilih kolom 'Pendapatan' saja\n",
    "print (raw_data['Pendapatan'])"
   ]
  },
  {
   "cell_type": "code",
   "execution_count": 69,
   "id": "f15f7c47",
   "metadata": {},
   "outputs": [
    {
     "name": "stdout",
     "output_type": "stream",
     "text": [
      "    Jenis Kelamin  Pendapatan\n",
      "0               1      600000\n",
      "1               2     1200000\n",
      "2               2      950000\n",
      "3               1      400000\n",
      "4               2     1200000\n",
      "5               1      800000\n",
      "6               1      950000\n",
      "7               2     1100000\n",
      "8               2      800000\n",
      "9               2     1700000\n",
      "10              2      600000\n",
      "11              2      950000\n",
      "12              2      400000\n",
      "13              2     6450000\n",
      "14              2     1000000\n",
      "15              2      800000\n",
      "16              1     1200000\n",
      "17              2      700000\n",
      "18              2      600000\n",
      "19              1      800000\n"
     ]
    }
   ],
   "source": [
    "# Memilih kolom 'Jenis Kelamin' dan 'Pendapatan'\n",
    "print (raw_data[['Jenis Kelamin', 'Pendapatan']])"
   ]
  },
  {
   "cell_type": "code",
   "execution_count": 70,
   "id": "72d5f2c7",
   "metadata": {},
   "outputs": [
    {
     "name": "stdout",
     "output_type": "stream",
     "text": [
      "   ID Pelanggan     Nama  Jenis Kelamin  Pendapatan Produk   Harga  Jumlah   \\\n",
      "0             1     Arif              1      600000      A  100000        4   \n",
      "1             2     Dian              2     1200000      D  250000        4   \n",
      "2             3    Dinda              2      950000      D  250000        3   \n",
      "3             4    Fajar              1      400000      A  100000        2   \n",
      "4             5      Ika              2     1200000      D  250000        4   \n",
      "5             6    Ilham              1      800000      B  150000        4   \n",
      "6             7    Indra              1      950000      B  150000        5   \n",
      "7             8  Kartika              2     1100000      E  300000        3   \n",
      "8             9  Lestari              2      800000      E  300000        2   \n",
      "9            10      Lia              2     1700000      E  300000        5   \n",
      "\n",
      "     Total  Tingkat Kepuasan  \n",
      "0   400000                 2  \n",
      "1  1000000                 2  \n",
      "2   750000                 3  \n",
      "3   200000                 3  \n",
      "4  1000000                 2  \n",
      "5   600000                 3  \n",
      "6   750000                 1  \n",
      "7   900000                 3  \n",
      "8   600000                 1  \n",
      "9  1500000                 1  \n"
     ]
    }
   ],
   "source": [
    "# mengambil data dari baris ke-0 sampai baris ke-(10-1) atau baris ke-9\n",
    "print(raw_data[:10])"
   ]
  },
  {
   "cell_type": "code",
   "execution_count": 71,
   "id": "69a8edc8",
   "metadata": {},
   "outputs": [
    {
     "name": "stdout",
     "output_type": "stream",
     "text": [
      "   ID Pelanggan   Nama  Jenis Kelamin  Pendapatan Produk   Harga  Jumlah   \\\n",
      "3             4  Fajar              1      400000      A  100000        2   \n",
      "4             5    Ika              2     1200000      D  250000        4   \n",
      "\n",
      "     Total  Tingkat Kepuasan  \n",
      "3   200000                 3  \n",
      "4  1000000                 2  \n"
     ]
    }
   ],
   "source": [
    "# mengambil data dari baris ke-3 sampai baris ke-(5-1) atau baris ke-4\n",
    "print(raw_data[3:5])"
   ]
  },
  {
   "cell_type": "code",
   "execution_count": 72,
   "id": "12726665",
   "metadata": {},
   "outputs": [
    {
     "name": "stdout",
     "output_type": "stream",
     "text": [
      "    ID Pelanggan   Nama  Jenis Kelamin  Pendapatan Produk   Harga  Jumlah   \\\n",
      "1              2   Dian              2     1200000      D  250000        4   \n",
      "3              4  Fajar              1      400000      A  100000        2   \n",
      "10            11  Maria              2      600000      A  100000        4   \n",
      "\n",
      "      Total  Tingkat Kepuasan  \n",
      "1   1000000                 2  \n",
      "3    200000                 3  \n",
      "10   400000                 3  \n"
     ]
    }
   ],
   "source": [
    "# mengambil data pada baris ke-1, ke-3 dan ke-10\n",
    "print(raw_data.loc[[1,3,10]])"
   ]
  },
  {
   "cell_type": "code",
   "execution_count": 73,
   "id": "6b0afd37",
   "metadata": {},
   "outputs": [
    {
     "name": "stdout",
     "output_type": "stream",
     "text": [
      "   Jenis Kelamin  Pendapatan\n",
      "1              2     1200000\n",
      "2              2      950000\n",
      "3              1      400000\n",
      "4              2     1200000\n",
      "5              1      800000\n",
      "6              1      950000\n",
      "7              2     1100000\n",
      "8              2      800000\n",
      "9              2     1700000\n"
     ]
    }
   ],
   "source": [
    "# Mengambil kolom 'Jenis Kelamin' dan 'Pendapatan' dan ambil baris ke-1 sampai ke-9\n",
    "print(raw_data[['Jenis Kelamin', 'Pendapatan']][1:10])"
   ]
  },
  {
   "cell_type": "code",
   "execution_count": 74,
   "id": "c569cefd",
   "metadata": {},
   "outputs": [
    {
     "name": "stdout",
     "output_type": "stream",
     "text": [
      "     Harga  Tingkat Kepuasan\n",
      "1   250000                 2\n",
      "10  100000                 3\n",
      "15  150000                 1\n"
     ]
    }
   ],
   "source": [
    "# Mengambil kolom 'Harga' dan 'Tingkat Kepuasan' dan ambil baris ke-1, ke-10 dan ke-15\n",
    "print(raw_data[['Harga', 'Tingkat Kepuasan']].loc[[1,10,15]])"
   ]
  },
  {
   "cell_type": "markdown",
   "id": "0bf7468c",
   "metadata": {},
   "source": [
    "### Ukuran Pusat"
   ]
  },
  {
   "cell_type": "markdown",
   "id": "cbe48852",
   "metadata": {},
   "source": [
    "Rata-Rata"
   ]
  },
  {
   "cell_type": "code",
   "execution_count": 75,
   "id": "57e77e0c",
   "metadata": {},
   "outputs": [
    {
     "name": "stdout",
     "output_type": "stream",
     "text": [
      "550000.0\n",
      "550000.0\n"
     ]
    }
   ],
   "source": [
    "# mengambil hanya data untuk produk 'A'\n",
    "produk_A = raw_data[raw_data['Produk'] == 'A']\n",
    " \n",
    "# menghitung rerata pendapatan menggunakan method .mean pada objek pandas DataFrame\n",
    "print (produk_A['Pendapatan'].mean())\n",
    " \n",
    "# menghitung rerata pendapatan menggunakan method .mean pada objek pandas DataFrame dengan numpy\n",
    "print (np.mean(produk_A['Pendapatan']))"
   ]
  },
  {
   "cell_type": "markdown",
   "id": "977c5864",
   "metadata": {},
   "source": [
    "Median"
   ]
  },
  {
   "cell_type": "code",
   "execution_count": 76,
   "id": "6bac75b9",
   "metadata": {},
   "outputs": [
    {
     "name": "stdout",
     "output_type": "stream",
     "text": [
      "600000.0\n",
      "600000.0\n"
     ]
    }
   ],
   "source": [
    "# Hitung median dari pendapatan menggunakan pandas\n",
    "print (produk_A['Pendapatan'].median())\n",
    " \n",
    "# Hitung median dari pendapatan menggunakan numpy\n",
    "print (np.median(produk_A['Pendapatan']))"
   ]
  },
  {
   "cell_type": "markdown",
   "id": "f967b0fa",
   "metadata": {},
   "source": [
    "Modus"
   ]
  },
  {
   "cell_type": "code",
   "execution_count": 77,
   "id": "a3a30dcb",
   "metadata": {},
   "outputs": [
    {
     "name": "stdout",
     "output_type": "stream",
     "text": [
      "Produk\n",
      "D    5\n",
      "A    4\n",
      "B    4\n",
      "C    4\n",
      "E    3\n",
      "Name: count, dtype: int64\n"
     ]
    }
   ],
   "source": [
    "print (raw_data['Produk'].value_counts())"
   ]
  },
  {
   "cell_type": "markdown",
   "id": "86916192",
   "metadata": {},
   "source": [
    "Kuantil"
   ]
  },
  {
   "cell_type": "code",
   "execution_count": 78,
   "id": "6ba78248",
   "metadata": {},
   "outputs": [
    {
     "name": "stdout",
     "output_type": "stream",
     "text": [
      "875000.0\n",
      "875000.0\n"
     ]
    }
   ],
   "source": [
    "# mencari median atau 50% dari data menggunakan pandas\n",
    "print(raw_data['Pendapatan'].quantile(q=0.5))\n",
    " \n",
    "# mencari median atau 50% dari data menggunakan numpy\n",
    "print(np.quantile(raw_data['Pendapatan'], q=0.5))"
   ]
  },
  {
   "cell_type": "markdown",
   "id": "8cf5be18",
   "metadata": {},
   "source": [
    "Agregasi Data"
   ]
  },
  {
   "cell_type": "code",
   "execution_count": 79,
   "id": "ef7978cf",
   "metadata": {},
   "outputs": [
    {
     "name": "stdout",
     "output_type": "stream",
     "text": [
      "        Pendapatan     Harga\n",
      "mean     1160000.0  197500.0\n",
      "median    875000.0  200000.0\n",
      "       Pendapatan                Harga          \n",
      "             mean     median      mean    median\n",
      "Produk                                          \n",
      "A        550000.0   600000.0  100000.0  100000.0\n",
      "B        875000.0   875000.0  150000.0  150000.0\n",
      "C        850000.0   900000.0  200000.0  200000.0\n",
      "D       2100000.0  1200000.0  250000.0  250000.0\n",
      "E       1200000.0  1100000.0  300000.0  300000.0\n"
     ]
    },
    {
     "name": "stderr",
     "output_type": "stream",
     "text": [
      "C:\\Users\\Aghnia\\AppData\\Local\\Temp\\ipykernel_12140\\162413267.py:2: FutureWarning: The provided callable <function mean at 0x00000274BB24BF40> is currently using Series.mean. In a future version of pandas, the provided callable will be used directly. To keep current behavior pass the string \"mean\" instead.\n",
      "  print(raw_data[['Pendapatan','Harga']].agg([np.mean, np.median]))\n",
      "C:\\Users\\Aghnia\\AppData\\Local\\Temp\\ipykernel_12140\\162413267.py:2: FutureWarning: The provided callable <function median at 0x00000274BB366320> is currently using Series.median. In a future version of pandas, the provided callable will be used directly. To keep current behavior pass the string \"median\" instead.\n",
      "  print(raw_data[['Pendapatan','Harga']].agg([np.mean, np.median]))\n",
      "C:\\Users\\Aghnia\\AppData\\Local\\Temp\\ipykernel_12140\\162413267.py:2: FutureWarning: The provided callable <function mean at 0x00000274BB24BF40> is currently using Series.mean. In a future version of pandas, the provided callable will be used directly. To keep current behavior pass the string \"mean\" instead.\n",
      "  print(raw_data[['Pendapatan','Harga']].agg([np.mean, np.median]))\n",
      "C:\\Users\\Aghnia\\AppData\\Local\\Temp\\ipykernel_12140\\162413267.py:2: FutureWarning: The provided callable <function median at 0x00000274BB366320> is currently using Series.median. In a future version of pandas, the provided callable will be used directly. To keep current behavior pass the string \"median\" instead.\n",
      "  print(raw_data[['Pendapatan','Harga']].agg([np.mean, np.median]))\n",
      "C:\\Users\\Aghnia\\AppData\\Local\\Temp\\ipykernel_12140\\162413267.py:5: FutureWarning: The provided callable <function mean at 0x00000274BB24BF40> is currently using SeriesGroupBy.mean. In a future version of pandas, the provided callable will be used directly. To keep current behavior pass the string \"mean\" instead.\n",
      "  print(raw_data[['Pendapatan','Harga','Produk']].groupby('Produk').agg([np.mean, np.median]))\n",
      "C:\\Users\\Aghnia\\AppData\\Local\\Temp\\ipykernel_12140\\162413267.py:5: FutureWarning: The provided callable <function median at 0x00000274BB366320> is currently using SeriesGroupBy.median. In a future version of pandas, the provided callable will be used directly. To keep current behavior pass the string \"median\" instead.\n",
      "  print(raw_data[['Pendapatan','Harga','Produk']].groupby('Produk').agg([np.mean, np.median]))\n",
      "C:\\Users\\Aghnia\\AppData\\Local\\Temp\\ipykernel_12140\\162413267.py:5: FutureWarning: The provided callable <function mean at 0x00000274BB24BF40> is currently using SeriesGroupBy.mean. In a future version of pandas, the provided callable will be used directly. To keep current behavior pass the string \"mean\" instead.\n",
      "  print(raw_data[['Pendapatan','Harga','Produk']].groupby('Produk').agg([np.mean, np.median]))\n"
     ]
    }
   ],
   "source": [
    "# menghitung rerata dan median 'Pendapatan' dan 'Harga'\n",
    "print(raw_data[['Pendapatan','Harga']].agg([np.mean, np.median]))\n",
    " \n",
    "# menghitung rerata dan median Pendapatan dan Harga dari tiap produk\n",
    "print(raw_data[['Pendapatan','Harga','Produk']].groupby('Produk').agg([np.mean, np.median]))"
   ]
  },
  {
   "cell_type": "markdown",
   "id": "23a8c6b3",
   "metadata": {},
   "source": [
    "### Ukuran Sebaran"
   ]
  },
  {
   "cell_type": "markdown",
   "id": "0abb294e",
   "metadata": {},
   "source": [
    "Proporsi Kategori"
   ]
  },
  {
   "cell_type": "code",
   "execution_count": 80,
   "id": "ac1b3d7c",
   "metadata": {},
   "outputs": [
    {
     "name": "stdout",
     "output_type": "stream",
     "text": [
      "Produk\n",
      "D    0.25\n",
      "A    0.20\n",
      "B    0.20\n",
      "C    0.20\n",
      "E    0.15\n",
      "Name: count, dtype: float64\n"
     ]
    }
   ],
   "source": [
    "# mencari proporsi tiap produk\n",
    "print(raw_data['Produk'].value_counts()/raw_data.shape[0])"
   ]
  },
  {
   "cell_type": "markdown",
   "id": "41523013",
   "metadata": {},
   "source": [
    "Rentang"
   ]
  },
  {
   "cell_type": "code",
   "execution_count": 81,
   "id": "5d3f81d9",
   "metadata": {},
   "outputs": [
    {
     "name": "stdout",
     "output_type": "stream",
     "text": [
      "6050000\n"
     ]
    }
   ],
   "source": [
    "# Cari nilai rentang dari kolom 'Pendapatan'\n",
    "print (raw_data['Pendapatan'].max() - raw_data['Pendapatan'].min())"
   ]
  },
  {
   "cell_type": "markdown",
   "id": "1a25b656",
   "metadata": {},
   "source": [
    "Variansi"
   ]
  },
  {
   "cell_type": "code",
   "execution_count": 82,
   "id": "5d2278e1",
   "metadata": {},
   "outputs": [
    {
     "name": "stdout",
     "output_type": "stream",
     "text": [
      "1645684210526.3157\n",
      "1563400000000.0\n",
      "1563400000000.0\n"
     ]
    }
   ],
   "source": [
    "# menghitung variansi Pendapatan menggunakan method .var() dari pandas\n",
    "print (raw_data['Pendapatan'].var())\n",
    " \n",
    "# menghitung variansi Pendapatan menggunakan method .var() dari numpy\n",
    "print (np.var(raw_data['Pendapatan']))\n",
    "\n",
    "# mengatur variansi populasi dengan method `.var()` dari pandas\n",
    "print (raw_data['Pendapatan'].var(ddof=0))"
   ]
  },
  {
   "cell_type": "markdown",
   "id": "9822259a",
   "metadata": {},
   "source": [
    "Deviasi Baku"
   ]
  },
  {
   "cell_type": "code",
   "execution_count": 83,
   "id": "6a03d100",
   "metadata": {},
   "outputs": [
    {
     "name": "stdout",
     "output_type": "stream",
     "text": [
      "1282842.2391417876\n",
      "1282842.2391417876\n"
     ]
    }
   ],
   "source": [
    "# menghitung deviasi baku sampel pendapatan menggunakan method std() dari pandas\n",
    "print (raw_data['Pendapatan'].std())\n",
    " \n",
    "# menghitung deviasi baku sampel pendapatan menggunakan method std() dari numpy\n",
    "print (np.std(raw_data['Pendapatan'], ddof = 1))"
   ]
  },
  {
   "cell_type": "markdown",
   "id": "b6f41254",
   "metadata": {},
   "source": [
    "### Korelasi"
   ]
  },
  {
   "cell_type": "code",
   "execution_count": 84,
   "id": "262a493e",
   "metadata": {},
   "outputs": [
    {
     "name": "stdout",
     "output_type": "stream",
     "text": [
      "                  ID Pelanggan  Jenis Kelamin  Pendapatan     Harga   Jumlah   \\\n",
      "ID Pelanggan          1.000000       0.151375    0.110958 -0.028707  0.011289   \n",
      "Jenis Kelamin         0.151375       1.000000    0.192849  0.457555 -0.104168   \n",
      "Pendapatan            0.110958       0.192849    1.000000  0.322443  0.399825   \n",
      "Harga                -0.028707       0.457555    0.322443  1.000000 -0.138883   \n",
      "Jumlah                0.011289      -0.104168    0.399825 -0.138883  1.000000   \n",
      "Total                -0.039968       0.238051    0.592044  0.645455  0.636097   \n",
      "Tingkat Kepuasan     -0.245717      -0.088339   -0.312663 -0.380798  0.017568   \n",
      "\n",
      "                     Total  Tingkat Kepuasan  \n",
      "ID Pelanggan     -0.039968         -0.245717  \n",
      "Jenis Kelamin     0.238051         -0.088339  \n",
      "Pendapatan        0.592044         -0.312663  \n",
      "Harga             0.645455         -0.380798  \n",
      "Jumlah            0.636097          0.017568  \n",
      "Total             1.000000         -0.268345  \n",
      "Tingkat Kepuasan -0.268345          1.000000  \n"
     ]
    }
   ],
   "source": [
    "# menghitung korelasi dari setiap pasang variabel pada raw_data\n",
    "print (raw_data.corr(numeric_only=True))"
   ]
  },
  {
   "cell_type": "markdown",
   "id": "7d57fd1c",
   "metadata": {},
   "source": [
    "Metode Pearson"
   ]
  },
  {
   "cell_type": "code",
   "execution_count": 85,
   "id": "f47988fc",
   "metadata": {},
   "outputs": [
    {
     "name": "stdout",
     "output_type": "stream",
     "text": [
      "                  ID Pelanggan  Jenis Kelamin  Pendapatan     Harga   Jumlah   \\\n",
      "ID Pelanggan          1.000000       0.151375    0.110958 -0.028707  0.011289   \n",
      "Jenis Kelamin         0.151375       1.000000    0.192849  0.457555 -0.104168   \n",
      "Pendapatan            0.110958       0.192849    1.000000  0.322443  0.399825   \n",
      "Harga                -0.028707       0.457555    0.322443  1.000000 -0.138883   \n",
      "Jumlah                0.011289      -0.104168    0.399825 -0.138883  1.000000   \n",
      "Total                -0.039968       0.238051    0.592044  0.645455  0.636097   \n",
      "Tingkat Kepuasan     -0.245717      -0.088339   -0.312663 -0.380798  0.017568   \n",
      "\n",
      "                     Total  Tingkat Kepuasan  \n",
      "ID Pelanggan     -0.039968         -0.245717  \n",
      "Jenis Kelamin     0.238051         -0.088339  \n",
      "Pendapatan        0.592044         -0.312663  \n",
      "Harga             0.645455         -0.380798  \n",
      "Jumlah            0.636097          0.017568  \n",
      "Total             1.000000         -0.268345  \n",
      "Tingkat Kepuasan -0.268345          1.000000  \n"
     ]
    }
   ],
   "source": [
    "# mencari korelasi 'pearson' untuk tiap pasang variabel\n",
    "print (raw_data.corr(method='pearson', numeric_only=True))"
   ]
  },
  {
   "cell_type": "markdown",
   "id": "d799f7cd",
   "metadata": {},
   "source": [
    "Metode Kendall"
   ]
  },
  {
   "cell_type": "code",
   "execution_count": 86,
   "id": "77bfa502",
   "metadata": {},
   "outputs": [
    {
     "name": "stdout",
     "output_type": "stream",
     "text": [
      "                  ID Pelanggan  Jenis Kelamin  Pendapatan     Harga   Jumlah   \\\n",
      "ID Pelanggan          1.000000       0.126650   -0.054998 -0.005753  0.024016   \n",
      "Jenis Kelamin         0.126650       1.000000    0.190245  0.415339 -0.090299   \n",
      "Pendapatan           -0.054998       0.190245    1.000000  0.523053  0.501925   \n",
      "Harga                -0.005753       0.415339    0.523053  1.000000 -0.098450   \n",
      "Jumlah                0.024016      -0.090299    0.501925 -0.098450  1.000000   \n",
      "Total                -0.065998       0.190245    0.988506  0.535078  0.501925   \n",
      "Tingkat Kepuasan     -0.183817      -0.085796   -0.165588 -0.325659 -0.028923   \n",
      "\n",
      "                     Total  Tingkat Kepuasan  \n",
      "ID Pelanggan     -0.065998         -0.183817  \n",
      "Jenis Kelamin     0.190245         -0.085796  \n",
      "Pendapatan        0.988506         -0.165588  \n",
      "Harga             0.535078         -0.325659  \n",
      "Jumlah            0.501925         -0.028923  \n",
      "Total             1.000000         -0.165588  \n",
      "Tingkat Kepuasan -0.165588          1.000000  \n"
     ]
    }
   ],
   "source": [
    "# mencari korelasi 'kendall' untuk tiap pasang variabel\n",
    "print (raw_data.corr(method='kendall', numeric_only=True))"
   ]
  },
  {
   "cell_type": "markdown",
   "id": "b99dbd46",
   "metadata": {},
   "source": [
    "Metode Spearman"
   ]
  },
  {
   "cell_type": "code",
   "execution_count": 87,
   "id": "535152ac",
   "metadata": {},
   "outputs": [
    {
     "name": "stdout",
     "output_type": "stream",
     "text": [
      "                  ID Pelanggan  Jenis Kelamin  Pendapatan     Harga   Jumlah   \\\n",
      "ID Pelanggan          1.000000       0.151375   -0.063711 -0.039149  0.046356   \n",
      "Jenis Kelamin         0.151375       1.000000    0.219508  0.463635 -0.098864   \n",
      "Pendapatan           -0.063711       0.219508    1.000000  0.640000  0.607110   \n",
      "Harga                -0.039149       0.463635    0.640000  1.000000 -0.130749   \n",
      "Jumlah                0.046356      -0.098864    0.607110 -0.130749  1.000000   \n",
      "Total                -0.069779       0.219508    0.998470  0.646194  0.607110   \n",
      "Tingkat Kepuasan     -0.238890      -0.090784   -0.192463 -0.378933 -0.023874   \n",
      "\n",
      "                     Total  Tingkat Kepuasan  \n",
      "ID Pelanggan     -0.069779         -0.238890  \n",
      "Jenis Kelamin     0.219508         -0.090784  \n",
      "Pendapatan        0.998470         -0.192463  \n",
      "Harga             0.646194         -0.378933  \n",
      "Jumlah            0.607110         -0.023874  \n",
      "Total             1.000000         -0.192463  \n",
      "Tingkat Kepuasan -0.192463          1.000000  \n"
     ]
    }
   ],
   "source": [
    "print (raw_data.corr(method='spearman', numeric_only=True))"
   ]
  }
 ],
 "metadata": {
  "kernelspec": {
   "display_name": "Python 3 (ipykernel)",
   "language": "python",
   "name": "python3"
  },
  "language_info": {
   "codemirror_mode": {
    "name": "ipython",
    "version": 3
   },
   "file_extension": ".py",
   "mimetype": "text/x-python",
   "name": "python",
   "nbconvert_exporter": "python",
   "pygments_lexer": "ipython3",
   "version": "3.10.7"
  }
 },
 "nbformat": 4,
 "nbformat_minor": 5
}
