{
 "cells": [
  {
   "cell_type": "markdown",
   "id": "41df48c4",
   "metadata": {},
   "source": [
    "Mini Project : Determine the BMI value\n",
    "    \n",
    "link quest https://academy.dqlab.id/main/livecode/362/801/4199?pr=0"
   ]
  },
  {
   "cell_type": "code",
   "execution_count": 1,
   "id": "b38a0abd",
   "metadata": {},
   "outputs": [
    {
     "name": "stdout",
     "output_type": "stream",
     "text": [
      "Lima data teratas:\n",
      "   berat_badan_kg  tinggi_badan_cm        BMI\n",
      "0            71.2            157.0  28.885553\n",
      "1            66.8            163.0  25.142083\n",
      "2            66.9            156.0  27.490138\n",
      "3            65.9            166.0  23.914937\n",
      "4            69.7            162.0  26.558451\n",
      "\n",
      "Kondisi kesehatan 120 penduduk di suatu kelurahan:\n",
      "                Jumlah\n",
      "BMI                   \n",
      "[0.0, 18.5)          0\n",
      "[18.5, 25.0)        32\n",
      "[25.0, 30.0)        83\n",
      "[30.0, 1000.0)       5\n"
     ]
    },
    {
     "name": "stderr",
     "output_type": "stream",
     "text": [
      "C:\\Users\\Aghnia\\AppData\\Local\\Temp\\ipykernel_12576\\3488014614.py:43: FutureWarning: The default of observed=False is deprecated and will be changed to True in a future version of pandas. Pass observed=False to retain current behavior or observed=True to adopt the future default and silence this warning.\n",
      "  kondisi = df[[\"BMI\"]].groupby(bin_cut).count()\n"
     ]
    }
   ],
   "source": [
    "# Importlah pandas sebagai aliasnya pd\n",
    "import pandas as pd\n",
    "# Data berat badan 120 orang (kg)\n",
    "bb120 = [71.2, 66.8, 66.9, 65.9, 69.7, 63.4, 71.5, 66.5, 68.6, 67.5, \n",
    "         70.9, 63.9, 67.4, 67.2, 70.3, 65.8, 67.7, 66.2, 68.1, 69.2, \n",
    "         65.8, 70.3, 69.8, 69.0, 69.8, 66.6, 67.8, 66.1, 67.5, 69.1, \n",
    "         66.6, 67.2, 66.6, 66.3, 66.7, 68.0, 65.8, 68.5, 71.3, 69.5, \n",
    "         67.6, 66.2, 66.5, 71.4, 68.1, 66.7, 68.4, 72.2, 68.2, 69.2, \n",
    "         68.6, 67.3, 65.7, 67.3, 67.6, 69.2, 69.7, 69.9, 68.6, 69.8, \n",
    "         66.5, 70.5, 69.0, 67.4, 69.0, 67.8, 70.3, 71.0, 72.4, 65.2, \n",
    "         65.1, 67.0, 68.3, 69.8, 68.6, 64.0, 67.4, 69.7, 68.5, 69.5, \n",
    "         67.6, 67.6, 68.4, 68.8, 68.4, 68.2, 66.7, 68.8, 68.2, 70.3, \n",
    "         70.4, 68.4, 67.2, 66.7, 68.8, 68.2, 67.3, 68.1, 66.8, 69.4, \n",
    "         67.1, 70.4, 68.8, 69.2, 65.8, 68.3, 69.5, 66.1, 67.5, 68.1, \n",
    "         65.3, 68.6, 69.7, 66.3, 68.7, 65.4, 67.9, 64.8, 70.2, 68.8]\n",
    "# Data tinggi badan 120 orang (cm)\n",
    "tb120 = [157., 163., 156., 166., 162., 165., 155., 160., 164., 161., \n",
    "         172., 149., 166., 162., 167., 161., 144., 164., 160., 155., \n",
    "         157., 162., 177., 163., 155., 173., 159., 156., 154., 157., \n",
    "         174., 167., 166., 162., 163., 165., 163., 162., 168., 160., \n",
    "         163., 156., 171., 170., 150., 160., 165., 165., 166., 159., \n",
    "         136., 163., 152., 166., 166., 149., 167., 160., 157., 164., \n",
    "         170., 171., 154., 159., 162., 162., 159., 147., 160., 154., \n",
    "         162., 156., 161., 157., 159., 159., 170., 166., 160., 154., \n",
    "         168., 152., 154., 157., 155., 156., 170., 161., 157., 166., \n",
    "         163., 154., 158., 165., 174., 171., 167., 161., 151., 157., \n",
    "         160., 165., 162., 162., 173., 164., 160., 159., 162., 156.,\n",
    "         170., 160., 158., 156., 167., 153., 159., 163., 161., 163.]\n",
    "\n",
    "# DataFrame yang berisi bb120 dan tb120\n",
    "df = pd.DataFrame({\"berat_badan_kg\": bb120,\n",
    "                   \"tinggi_badan_cm\": tb120})\n",
    "# Hitunglah BMI-nya sesuai dengan persamaan yang diberikan\n",
    "df[\"BMI\"]= df[\"berat_badan_kg\"] / (df[\"tinggi_badan_cm\"]/100)**2\n",
    "# Cetak lima data teratas data frame df\n",
    "print(\"Lima data teratas:\", df.head(), sep=\"\\n\")\n",
    "\n",
    "# Buat urutan bilangan yang merupakan batas dari kategori BMI\n",
    "bin_list = [0, 18.5, 25, 30, 1000]\n",
    "# Kategorikan nilai BMI melalui kolom BMI yang telah dihitung\n",
    "bin_cut = pd.cut(df[\"BMI\"], bin_list, right=False, include_lowest=True)\n",
    "# Kelompokkanlah kolom BMI sesuai dengan kategorinya dan hitung jumlah orang disetiap kategorinya\n",
    "kondisi = df[[\"BMI\"]].groupby(bin_cut).count()\n",
    "kondisi.rename(columns={\"BMI\": \"Jumlah\"}, inplace=True)\n",
    "# Kondisi kesehatan 120 penduduk di suatu kelurahan\n",
    "print(\"\\nKondisi kesehatan 120 penduduk di suatu kelurahan:\")\n",
    "print(kondisi)"
   ]
  }
 ],
 "metadata": {
  "kernelspec": {
   "display_name": "Python 3 (ipykernel)",
   "language": "python",
   "name": "python3"
  },
  "language_info": {
   "codemirror_mode": {
    "name": "ipython",
    "version": 3
   },
   "file_extension": ".py",
   "mimetype": "text/x-python",
   "name": "python",
   "nbconvert_exporter": "python",
   "pygments_lexer": "ipython3",
   "version": "3.10.7"
  }
 },
 "nbformat": 4,
 "nbformat_minor": 5
}
