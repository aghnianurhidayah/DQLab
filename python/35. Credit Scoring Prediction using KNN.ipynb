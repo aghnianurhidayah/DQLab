{
 "cells": [
  {
   "cell_type": "code",
   "execution_count": 14,
   "id": "a97f90fc",
   "metadata": {},
   "outputs": [],
   "source": [
    "#meng-import library pandas, library ini dapat kita gunakan untuk membaca data dalam format xlsx ataupun csv\n",
    "import pandas as pd\n",
    "pd.set_option('display.max_column', 20)"
   ]
  },
  {
   "cell_type": "code",
   "execution_count": 15,
   "id": "cfe28433",
   "metadata": {},
   "outputs": [
    {
     "name": "stdout",
     "output_type": "stream",
     "text": [
      "  kode_kontrak  pendapatan_setahun_juta kpr_aktif  durasi_pinjaman_bulan  \\\n",
      "0   AGR-000001                      295        YA                     48   \n",
      "1   AGR-000011                      271        YA                     36   \n",
      "2   AGR-000030                      159     TIDAK                     12   \n",
      "3   AGR-000043                      210        YA                     12   \n",
      "4   AGR-000049                      165     TIDAK                     36   \n",
      "\n",
      "   jumlah_tanggungan rata_rata_overdue  risk_rating  \n",
      "0                  5      61 - 90 days            4  \n",
      "1                  5      61 - 90 days            4  \n",
      "2                  0       0 - 30 days            1  \n",
      "3                  3      46 - 60 days            3  \n",
      "4                  0      31 - 45 days            2  \n"
     ]
    }
   ],
   "source": [
    "#men-load file data.csv sebagai pandas data frame untuk mempermudah proses pengolahan data\n",
    "df = pd.read_excel('https://storage.googleapis.com/dqlab-dataset/credit_scoring_dqlab.xlsx')\n",
    "\n",
    "#perintah untuk menampilkan 5 data pertama\n",
    "print(df.head())"
   ]
  },
  {
   "cell_type": "code",
   "execution_count": 16,
   "id": "fb8d1a2f",
   "metadata": {},
   "outputs": [
    {
     "name": "stdout",
     "output_type": "stream",
     "text": [
      "   pendapatan_setahun_juta kpr_aktif  durasi_pinjaman_bulan  \\\n",
      "0                      295        YA                     48   \n",
      "1                      271        YA                     36   \n",
      "2                      159     TIDAK                     12   \n",
      "3                      210        YA                     12   \n",
      "4                      165     TIDAK                     36   \n",
      "\n",
      "   jumlah_tanggungan rata_rata_overdue  risk_rating  \n",
      "0                  5      61 - 90 days            4  \n",
      "1                  5      61 - 90 days            4  \n",
      "2                  0       0 - 30 days            1  \n",
      "3                  3      46 - 60 days            3  \n",
      "4                  0      31 - 45 days            2  \n"
     ]
    }
   ],
   "source": [
    "#menghilangkan kolom 'kode_kontrak' dari data frame dikarenakan kolom ini tidak relevan untuk dijadikan input dalam tugas klasifikasi (kode_kontrak tidak mempengaruhi apakah customer akan lanjut berlangganan atau tidak)\n",
    "df.drop('kode_kontrak', axis=1, inplace=True)\n",
    "\n",
    "#memeriksa 5 data teratas\n",
    "print(df.head())"
   ]
  },
  {
   "cell_type": "code",
   "execution_count": 17,
   "id": "a57190d7",
   "metadata": {},
   "outputs": [
    {
     "name": "stdout",
     "output_type": "stream",
     "text": [
      "Rasio kemunculan  label:\n",
      "   risk_rating  percentage_risk_rating\n",
      "3          291               32.333333\n",
      "1          227               25.222222\n",
      "2          159               17.666667\n",
      "4          120               13.333333\n",
      "5          103               11.444444\n"
     ]
    }
   ],
   "source": [
    "#memeriksa rasio kemunculan label\n",
    "print('Rasio kemunculan  label:')\n",
    "print(pd.concat([df['risk_rating'].value_counts(), 100*df['risk_rating'].value_counts(normalize=True).rename('percentage_risk_rating')], axis=1))"
   ]
  },
  {
   "cell_type": "code",
   "execution_count": 18,
   "id": "468e74bf",
   "metadata": {},
   "outputs": [
    {
     "name": "stdout",
     "output_type": "stream",
     "text": [
      "\n",
      "Dataset:\n",
      "   pendapatan_setahun_juta kpr_aktif  durasi_pinjaman_bulan  \\\n",
      "0                      295        YA                     48   \n",
      "1                      271        YA                     36   \n",
      "2                      159     TIDAK                     12   \n",
      "3                      210        YA                     12   \n",
      "4                      165     TIDAK                     36   \n",
      "\n",
      "   jumlah_tanggungan rata_rata_overdue  \n",
      "0                  5      61 - 90 days  \n",
      "1                  5      61 - 90 days  \n",
      "2                  0       0 - 30 days  \n",
      "3                  3      46 - 60 days  \n",
      "4                  0      31 - 45 days  \n"
     ]
    }
   ],
   "source": [
    "#menyimpan kolom 'rating' sebagai list ke dalam variabel y\n",
    "y = df.pop('risk_rating').to_list()\n",
    " \n",
    "#untuk setiap label jika nilai label = 5 maka kembalikan nilai 4\n",
    "y = [4 if label == 5 else label for label in y]\n",
    " \n",
    "#mengubah tipe data dari array y menjadi numpy array hal ini dikarenakan beberapa fungsi library scikit-learn hanya kompatibel terhadap numpy array\n",
    "import numpy as np\n",
    "y = np.array(y)\n",
    "\n",
    "print('\\nDataset:')\n",
    "print(df.head())"
   ]
  },
  {
   "cell_type": "code",
   "execution_count": 19,
   "id": "4df30c2c",
   "metadata": {},
   "outputs": [
    {
     "name": "stdout",
     "output_type": "stream",
     "text": [
      "   pendapatan_setahun_juta  kpr_aktif  durasi_pinjaman_bulan  \\\n",
      "0                      295          1                     48   \n",
      "1                      271          1                     36   \n",
      "2                      159          0                     12   \n",
      "3                      210          1                     12   \n",
      "4                      165          0                     36   \n",
      "\n",
      "   jumlah_tanggungan rata_rata_overdue  \n",
      "0                  5      61 - 90 days  \n",
      "1                  5      61 - 90 days  \n",
      "2                  0       0 - 30 days  \n",
      "3                  3      46 - 60 days  \n",
      "4                  0      31 - 45 days  \n"
     ]
    }
   ],
   "source": [
    "#menyiapkan fungsi untuk mengubah nilai kpr_aktif\n",
    "def convert_kpr_aktif(kpr_aktif):\n",
    "\tif kpr_aktif == 'YA':\n",
    "\t\treturn 1\n",
    "\treturn 0\n",
    " \n",
    "#mengubah setiap nilai pada kolom kpr aktif menggunakan fungsi 'convert_kpr_aktif'\n",
    "df['kpr_aktif']= df['kpr_aktif'].apply(convert_kpr_aktif)\n",
    "print(df.head())"
   ]
  },
  {
   "cell_type": "code",
   "execution_count": 20,
   "id": "5333b824",
   "metadata": {},
   "outputs": [
    {
     "name": "stdout",
     "output_type": "stream",
     "text": [
      "Rasio kemunculan  setiap kategori rata_rata_overdue:\n",
      "              rata_rata_overdue  percentage_rata_rata_overdue\n",
      "46 - 60 days                291                     32.333333\n",
      "0 - 30 days                 227                     25.222222\n",
      "31 - 45 days                159                     17.666667\n",
      "61 - 90 days                120                     13.333333\n",
      "> 90 days                   103                     11.444444\n"
     ]
    }
   ],
   "source": [
    "#rasio kemunculan setiap kategori rata_rata_overdue\n",
    "print('Rasio kemunculan  setiap kategori rata_rata_overdue:')\n",
    "print(pd.concat([df['rata_rata_overdue'].value_counts(), 100*df['rata_rata_overdue'].value_counts(normalize=True).rename('percentage_rata_rata_overdue')], axis=1))"
   ]
  },
  {
   "cell_type": "code",
   "execution_count": 21,
   "id": "6f0db6f6",
   "metadata": {},
   "outputs": [
    {
     "name": "stdout",
     "output_type": "stream",
     "text": [
      "\n",
      "Lima baris dataset teratas:\n",
      "   pendapatan_setahun_juta  kpr_aktif  durasi_pinjaman_bulan  \\\n",
      "0                      295          1                     48   \n",
      "1                      271          1                     36   \n",
      "2                      159          0                     12   \n",
      "3                      210          1                     12   \n",
      "4                      165          0                     36   \n",
      "\n",
      "   jumlah_tanggungan  rata_rata_overdue  \n",
      "0                  5                  3  \n",
      "1                  5                  3  \n",
      "2                  0                  0  \n",
      "3                  3                  2  \n",
      "4                  0                  1  \n"
     ]
    }
   ],
   "source": [
    "#fungsi untuk mengubah nilai dari kolom 'rata_rata_overdue'\n",
    "def change_overdue(overdue):\n",
    "\tif overdue == '0 - 30 days':\n",
    "\t\treturn 0\n",
    "\telif overdue == '31 - 45 days':\n",
    "\t\treturn 1\n",
    "\telif overdue == '46 - 60 days':\n",
    "\t\treturn 2\n",
    "\telif overdue == '61 - 90 days':\n",
    "\t\treturn 3\n",
    "\telse:\n",
    "\t\treturn 4\n",
    "\t\n",
    "#mengaplikasikan fungsi pada kolom 'rata_rata_overdue'\n",
    "df['rata_rata_overdue'] = df['rata_rata_overdue'].apply(change_overdue)\n",
    "\n",
    "print(\"\\nLima baris dataset teratas:\")\n",
    "print(df.head())"
   ]
  },
  {
   "cell_type": "code",
   "execution_count": 22,
   "id": "92f9b089",
   "metadata": {},
   "outputs": [
    {
     "name": "stdout",
     "output_type": "stream",
     "text": [
      "Dimensi dari variabel X: (900, 5)\n"
     ]
    }
   ],
   "source": [
    "#merepresentasikan seluruh kolom dalam df sebagai matrik dan menampungnya dalam variabel X.\n",
    "X = df.to_numpy()\n",
    "\n",
    "#menampilkan informasi dimensi dari variabel X\n",
    "print('Dimensi dari variabel X:', X.shape)"
   ]
  },
  {
   "cell_type": "code",
   "execution_count": 23,
   "id": "31d43546",
   "metadata": {},
   "outputs": [
    {
     "name": "stdout",
     "output_type": "stream",
     "text": [
      "Percobaan ke- 1\n",
      "10 indeks data latih pertama: [ 0  1  2  3  4  5  6  7  8 13]\n",
      "10 indeks data testing pertama: [ 9 10 11 12 15 25 29 32 44 52]\n",
      "============================================================\n",
      "Percobaan ke- 2\n",
      "10 indeks data latih pertama: [ 0  2  4  5  6  8  9 10 11 12]\n",
      "10 indeks data testing pertama: [ 1  3  7 14 20 28 37 43 49 59]\n",
      "============================================================\n",
      "Percobaan ke- 3\n",
      "10 indeks data latih pertama: [ 0  1  2  3  4  5  6  7  9 10]\n",
      "10 indeks data testing pertama: [ 8 13 22 23 27 30 31 33 38 39]\n",
      "============================================================\n",
      "Percobaan ke- 4\n",
      "10 indeks data latih pertama: [ 1  3  4  5  6  7  8  9 10 11]\n",
      "10 indeks data testing pertama: [ 0  2 16 17 19 21 24 35 36 42]\n",
      "============================================================\n",
      "Percobaan ke- 5\n",
      "10 indeks data latih pertama: [ 0  1  2  3  7  8  9 10 11 12]\n",
      "10 indeks data testing pertama: [ 4  5  6 18 26 34 40 47 50 54]\n",
      "============================================================\n"
     ]
    }
   ],
   "source": [
    "#library yang akan kita gunakan untuk membagi dataset menggunakan strategi validasi KFold\n",
    "from sklearn.model_selection import KFold\n",
    " \n",
    "#menginisialisasi object KFold dengan jumlah kelompok data = 5 nilai random_state kita gunakan reproducibility (agar data acak yang kita dapatkan untuk setiap kelompok data selalu sama)\n",
    "kf = KFold(n_splits = 5, shuffle=True, random_state = 57)\n",
    " \n",
    "#meminta object kf untuk memecah data X ke sejumlah n kelompok dan mengiterasi setiap train_index dan test_index\n",
    "for i, (train_index, test_index) in enumerate(kf.split(X)):\n",
    "\tX_train, y_train = X[train_index], y[train_index]\n",
    "\tX_test, y_test = X[test_index], y[test_index]\n",
    "\n",
    "\tprint(\"Percobaan ke-\", i+1)\n",
    "\tprint(\"10 indeks data latih pertama:\", train_index[:10])\n",
    "\tprint(\"10 indeks data testing pertama:\", test_index[:10])\n",
    "\tprint(\"============================================================\")"
   ]
  },
  {
   "cell_type": "code",
   "execution_count": 25,
   "id": "17abed05",
   "metadata": {},
   "outputs": [
    {
     "name": "stdout",
     "output_type": "stream",
     "text": [
      "Skor latih tertinggi:  0.75\n",
      "Skor latih terendah:  0.73\n",
      "Skor latih rata-rata:  0.74\n",
      "Skor testing tertinggi:  0.62\n",
      "Skor testing terendah:  0.56\n",
      "Skor testing rata-rata:  0.58\n"
     ]
    }
   ],
   "source": [
    "#library yang digunakan untuk menghitung akurasi\n",
    "from sklearn.metrics import accuracy_score\n",
    "\n",
    "#library yang digunakan untuk menggunakan model k-NN\n",
    "from sklearn.neighbors import KNeighborsClassifier\n",
    " \n",
    "#library yang akan kita gunakan untuk membagi dataset menggunakan strategi validasi KFold\n",
    "from sklearn.model_selection import KFold\n",
    " \n",
    "#menginisialisasi object KFold dengan jumlah kelompok data = 5. nilai random_state kita gunakan reproducibility (agar data acak yang kita dapatkan untuk setiap kelompok data selalu sama)\n",
    "kf = KFold(n_splits = 5, shuffle=True, random_state = 57)\n",
    " \n",
    "scores_test = []\n",
    "scores_train = []\n",
    " \n",
    "#meminta object kf untuk memecah data X ke sejumlah n kelompok dan mengiterasi setiap train_index dan test_index\n",
    "for train_index, test_index in kf.split(X):\n",
    "\tX_train, y_train = X[train_index], y[train_index]\n",
    "\tX_test, y_test = X[test_index], y[test_index]\n",
    "\t\n",
    "\tmodel = KNeighborsClassifier()\n",
    "\t\n",
    "\t#menspesifikasikan data latih beserta labelnya untuk dipelajari oleh model\n",
    "\tmodel.fit(X_train, y_train)\n",
    "\t\n",
    "\t#meminta model yang telah dilatih untuk memprediksi data X_train\n",
    "\t#menampung hasil prediksi ke dalam variabel y_pred\n",
    "\ty_pred = model.predict(X_train)\n",
    "\t\n",
    "\t#menampung akurasi dari model ke variabel current_score\n",
    "\tcurrent_score = accuracy_score(y_train, y_pred)\n",
    "\t\n",
    "\t#menambahkan skor saat ini ke list scores\n",
    "\tscores_train.append(current_score)\n",
    "\t\n",
    "\t#meminta model yang telah dilatih untuk memprediksi data X_test\n",
    "\t#menampung hasil prediksi ke dalam variabel y_pred\n",
    "\ty_pred = model.predict(X_test)\n",
    "\t\n",
    "\t#menampung akurasi dari model ke variabel current_score\n",
    "\tcurrent_score = accuracy_score(y_test, y_pred)\n",
    "\t\n",
    "\t#menambahkan skor saat ini ke list scores\n",
    "\tscores_test.append(current_score)\n",
    "\t\n",
    "print(\"Skor latih tertinggi: \", round(max(scores_train),2))\n",
    "print(\"Skor latih terendah: \", round(min(scores_train),2))\n",
    "print(\"Skor latih rata-rata: \", round(sum(scores_train)/ len(scores_train),2))\n",
    "\n",
    "print(\"Skor testing tertinggi: \", round(max(scores_test),2))\n",
    "print(\"Skor testing terendah: \", round(min(scores_test),2))\n",
    "print(\"Skor testing rata-rata: \", round(sum(scores_test)/ len(scores_test),2))"
   ]
  },
  {
   "cell_type": "code",
   "execution_count": 26,
   "id": "c6f15897",
   "metadata": {},
   "outputs": [
    {
     "name": "stdout",
     "output_type": "stream",
     "text": [
      "Parameter terbaik:  {'metric': 'manhattan', 'n_neighbors': 5}\n",
      "Akurasi terbaik:  0.7322222222222223\n"
     ]
    }
   ],
   "source": [
    "#Paramterisasi\n",
    "\n",
    "#library yang digunakan untuk mencari parameterisasi \n",
    "#model dengan strategi validasi KFold\n",
    "from sklearn.model_selection import GridSearchCV\n",
    "\n",
    "clf = KNeighborsClassifier()\n",
    "#parameter-parameter yang akan diujicobakan pada model\n",
    "parameter_space = {\n",
    "    'n_neighbors': [5, 10, 15, 20, 25],\n",
    "    'metric': ['euclidean', 'manhattan']\n",
    "}\n",
    " \n",
    "#menginisialisasi object GridSearchCV pada classifier\n",
    "#penjelasan terkait dengan parameter-parameter lain yang diterima pada object akan diberikan setelah potongan kode\n",
    " \n",
    "kfold = KFold(n_splits=5, shuffle=True,random_state=57)\n",
    "searcher = GridSearchCV(clf, parameter_space, scoring='accuracy', cv = kfold)\n",
    " \n",
    "#meminta object untuk memproses data X dan y.\n",
    "searcher.fit(X,y)\n",
    " \n",
    "print(\"Parameter terbaik: \", searcher.best_params_)\n",
    "print(\"Akurasi terbaik: \", searcher.best_score_)"
   ]
  },
  {
   "attachments": {
    "image.png": {
     "image/png": "[encoded data removed]"
    }
   },
   "cell_type": "markdown",
   "id": "bdf32131",
   "metadata": {},
   "source": [
    "Output di atas menunjukkan bahwa berdasarkan proses pencarian yang telah dilakukan parameter terbaik diperoleh dari penggunaan fungsi jarak “manhattan” dengan nilai n_neighbors sebesar lima (5), model dengan parameter ini menghasilkan nilai akurasi sebesar 73.3%.\n",
    "\n",
    "1. Berdasarkan parameter “parameter_space” object GridSearchCV akan mencoba melatih sejumlah model dengan kombinasi parameter berbeda dalam parameter. Berdasarkan potongan kode di atas, akan diujicobakan sebanyak 10 model k-NN dengan parameter yang berbeda, yaitu.\n",
    "![image.png](attachment:image.png)\n",
    "\n",
    "\n",
    "2. Untuk setiap model, object GridSearchCV akan melakukan proses pelatihan dan evaluasi dengan menggunakan strategi validasi sesuai dengan parameter “cv” yang diberikan. Dalam potongan kode di atas, aku menspesifikasikan strategi validasi silang dengan nilai k sama dengan lima (5).\n",
    "\n",
    " \n",
    "3. Terakhir, fungsi pengukuran performa yang digunakan oleh object GridSearchCV akan disesuaikan dengan nilai yang dispesifikasikan pada parameter “scoring” yang diberikan. Dalam potongan kode di atas, aku menspesifikasikan metrik akurasi.\n",
    "\n",
    " \n",
    "Setelah fungsi fit(X,y) selesai, object GridSearchCV (dalam variabel searcher) akan menyimpan performa (skor) rata-rata testing untuk model terbaik dalam atribut “best_score_” dan menyimpan konfigurasi parameter terbaik dalam atribut “best_params” miliknya."
   ]
  },
  {
   "cell_type": "code",
   "execution_count": 27,
   "id": "45cea6bb",
   "metadata": {},
   "outputs": [
    {
     "name": "stdout",
     "output_type": "stream",
     "text": [
      "Parameter terbaik:  {'clf__metric': 'manhattan', 'clf__n_neighbors': 6}\n",
      "Akurasi terbaik:  0.9844444444444445\n"
     ]
    }
   ],
   "source": [
    "#library yang kita gunakan untuk menggabungkan beberapa object yang dibutuhkan dalam proses pengembangan model machine learning sebagai satu kesatuan.\n",
    "#saat sebuah fungsi fit, predict, ataupun fungsi lainnya dipanggil pada object pipeline maka fungsi akan dijalankan pada setiap object di dalamnya secara berurutan\n",
    "from sklearn.pipeline import Pipeline\n",
    " \n",
    "#library yang kita gunakan untuk mengubah skalasi nilai dari setiap atribut ke dalam suatu rentang tertentu\n",
    "from sklearn.preprocessing import MinMaxScaler\n",
    " \n",
    "clf = Pipeline([\n",
    "#menginisialisasi object MinMaxScaler untuk mengubah setiap kolom agar nilai maksimumnya sama dengan 1 dan nilai minimumnya sama dengan 0\n",
    "  ('scaler', MinMaxScaler(feature_range=(0,1))),\n",
    "  ('clf', KNeighborsClassifier()),              \n",
    "])\n",
    " \n",
    "parameter_space = {\n",
    "    'clf__n_neighbors': [2,3,4,5,6,7,8,9,11],\n",
    "    'clf__metric': ['euclidean','manhattan']\n",
    "}\n",
    " \n",
    "kfold = KFold(n_splits=5, shuffle=True,random_state=57)\n",
    "searcher = GridSearchCV(clf, parameter_space, scoring='accuracy', cv = kfold)\n",
    " \n",
    "searcher.fit(X,y)\n",
    " \n",
    "print(\"Parameter terbaik: \", searcher.best_params_)\n",
    "print(\"Akurasi terbaik: \", searcher.best_score_)"
   ]
  },
  {
   "cell_type": "markdown",
   "id": "fa697730",
   "metadata": {},
   "source": [
    "Berdasarkan potongan kode di atas, dapat terlihat bahwa dengan melakukan proses scaling performa dari model klasifikasi dapat meningkat dengan sangat pesat (dari 77.66% menjadi 98.44%!).\n",
    "\n",
    "Hal ini dikarenakan metode k-NN bekerja dengan melibatkan fungsi jarak sehingga agar setiap atribut memiliki bobot yang sama, alangkah lebih baiknya jika menyamakan satuan/ skala dari setiap atribut. "
   ]
  },
  {
   "cell_type": "code",
   "execution_count": 28,
   "id": "99322317",
   "metadata": {},
   "outputs": [
    {
     "name": "stdout",
     "output_type": "stream",
     "text": [
      "[3 2 1]\n"
     ]
    }
   ],
   "source": [
    "#merepresentasikan ketiga data sebagai variabel X_new\n",
    "X_new = [\n",
    "    [320,1,36,1,2],\n",
    "    [220,0,12,0,1],\n",
    "    [300,0,12,2,0]\n",
    "]\n",
    " \n",
    "#perhatikan bahwa kita tidak harus melakukan skalasi terhadap X_new dan proses predict akan melakukannya untuk kita karena kita sudah menspesifikasikan object MinMaxScaler dalam object pipeline pada potongan kode sebelumnya\n",
    "print(searcher.best_estimator_.predict(X_new))"
   ]
  },
  {
   "cell_type": "markdown",
   "id": "9c5658fd",
   "metadata": {},
   "source": [
    "Hasil prediksinya, jika kita memberikan pinjaman pada nasabah pertama akan sangat beresiko karena memiliki risk rating atau nilai resiko 3. Sementara itu, nasabah dengan kriteria kedua cukup beresiko (risk rating bernilai 2) dan pada nasabah ketiga tidak beresiko (risk rating bernilai 1)"
   ]
  }
 ],
 "metadata": {
  "kernelspec": {
   "display_name": "dqlab",
   "language": "python",
   "name": "dqlab"
  },
  "language_info": {
   "codemirror_mode": {
    "name": "ipython",
    "version": 3
   },
   "file_extension": ".py",
   "mimetype": "text/x-python",
   "name": "python",
   "nbconvert_exporter": "python",
   "pygments_lexer": "ipython3",
   "version": "3.10.7"
  }
 },
 "nbformat": 4,
 "nbformat_minor": 5
}
