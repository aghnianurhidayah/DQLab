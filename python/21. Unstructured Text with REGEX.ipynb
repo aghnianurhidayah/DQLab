{
 "cells": [
  {
   "cell_type": "code",
   "execution_count": 1,
   "id": "21e93ddb",
   "metadata": {},
   "outputs": [
    {
     "name": "stdout",
     "output_type": "stream",
     "text": [
      "   no_pencatatan tanggal_catat      kota jumlah_member staf_pencatat\n",
      "0              1    01-05-2020   Jakarta           311         Andra\n",
      "1              2    30-06-2020   Jakarta           1I2         Andra\n",
      "2              3    05/02/2020   Bandung           5S0        Antara\n",
      "3              4    06/28/2020   Bandung           670        Antara\n",
      "4              5    05/10/2020  Semarang           81O         Senja\n",
      "5              6    06/28/2020  Semarang           1O2        Sendja\n"
     ]
    }
   ],
   "source": [
    "#Import library yang dibutuhkan\n",
    "import pandas as pd\n",
    "\n",
    "#Baca file dqlabregex.tsv\n",
    "dqlabregex = pd.read_csv(\"https://storage.googleapis.com/dqlab-dataset/dqlabregex.tsv\", sep = '\\t')\n",
    "\n",
    "#Tampilkan hasilnya\n",
    "print(dqlabregex)"
   ]
  },
  {
   "cell_type": "markdown",
   "id": "b0ae2475",
   "metadata": {},
   "source": [
    "#### Contains"
   ]
  },
  {
   "cell_type": "code",
   "execution_count": 2,
   "id": "6bde044f",
   "metadata": {},
   "outputs": [
    {
     "name": "stdout",
     "output_type": "stream",
     "text": [
      "       kota  kota_awalan_J_S\n",
      "0   Jakarta             True\n",
      "1   Jakarta             True\n",
      "2   Bandung            False\n",
      "3   Bandung            False\n",
      "4  Semarang             True\n",
      "5  Semarang             True\n"
     ]
    },
    {
     "name": "stderr",
     "output_type": "stream",
     "text": [
      "C:\\Users\\Aghnia\\AppData\\Local\\Temp\\ipykernel_8212\\647863617.py:2: UserWarning: This pattern is interpreted as a regular expression, and has match groups. To actually get the groups, use str.extract.\n",
      "  dqlabregex['kota_awalan_J_S'] = dqlabregex['kota'].str.contains(\"^(j|s)\", case = False)\n"
     ]
    }
   ],
   "source": [
    "#Buat kolom baru kota_awalan_J_S\n",
    "dqlabregex['kota_awalan_J_S'] = dqlabregex['kota'].str.contains(\"^(j|s)\", case = False)\n",
    "\n",
    "#Tampilkan hasilnya\n",
    "print(dqlabregex[['kota','kota_awalan_J_S']])"
   ]
  },
  {
   "cell_type": "code",
   "execution_count": 3,
   "id": "2da2667d",
   "metadata": {},
   "outputs": [
    {
     "name": "stdout",
     "output_type": "stream",
     "text": [
      "  staf_pencatat  pencatat_senja\n",
      "0         Andra           False\n",
      "1         Andra           False\n",
      "2        Antara           False\n",
      "3        Antara           False\n",
      "4         Senja            True\n",
      "5        Sendja            True\n"
     ]
    }
   ],
   "source": [
    "#Buat kolom baru pencatat_senja\n",
    "dqlabregex['pencatat_senja'] = dqlabregex['staf_pencatat'].str.contains(\"Sen.?ja\")\n",
    "\n",
    "#Tampilkan hasilnya\n",
    "print(dqlabregex[['staf_pencatat','pencatat_senja']])"
   ]
  },
  {
   "cell_type": "code",
   "execution_count": 4,
   "id": "a059fd83",
   "metadata": {},
   "outputs": [
    {
     "name": "stdout",
     "output_type": "stream",
     "text": [
      "  jumlah_member  char_nonnumerik\n",
      "0           311            False\n",
      "1           1I2             True\n",
      "2           5S0             True\n",
      "3           670            False\n",
      "4           81O             True\n",
      "5           1O2             True\n"
     ]
    }
   ],
   "source": [
    "#Buat kolom baru char_nonnumerik untuk mengetahui jumlah_member non numerik\n",
    "dqlabregex['char_nonnumerik'] = dqlabregex['jumlah_member'].str.contains('[^0-9]')\n",
    "\n",
    "#Tampilkan hasilnya\n",
    "print(dqlabregex[['jumlah_member','char_nonnumerik']])"
   ]
  },
  {
   "cell_type": "markdown",
   "id": "a32c9038",
   "metadata": {},
   "source": [
    "#### Replace"
   ]
  },
  {
   "cell_type": "code",
   "execution_count": 5,
   "id": "82c1e462",
   "metadata": {},
   "outputs": [
    {
     "name": "stdout",
     "output_type": "stream",
     "text": [
      "0     Andra\n",
      "1     Andra\n",
      "2    Antara\n",
      "3    Antara\n",
      "4     Senja\n",
      "5     Senja\n",
      "Name: staf_pencatat, dtype: object\n"
     ]
    },
    {
     "name": "stderr",
     "output_type": "stream",
     "text": [
      "C:\\Users\\Aghnia\\AppData\\Local\\Temp\\ipykernel_8212\\4233854166.py:2: FutureWarning: The default value of regex will change from True to False in a future version.\n",
      "  dqlabregex['staf_pencatat'] = dqlabregex['staf_pencatat'].str.replace('Sen.?ja', 'Senja')\n"
     ]
    }
   ],
   "source": [
    "#Ubah kata Sendja, dsb menjadi Senja pada kolom staf_pencatat\n",
    "dqlabregex['staf_pencatat'] = dqlabregex['staf_pencatat'].str.replace('Sen.?ja', 'Senja')\n",
    "\n",
    "#Tampilkan hasilnya\n",
    "print(dqlabregex['staf_pencatat'])"
   ]
  },
  {
   "cell_type": "code",
   "execution_count": 6,
   "id": "a86f2bac",
   "metadata": {},
   "outputs": [
    {
     "name": "stdout",
     "output_type": "stream",
     "text": [
      "  jumlah_member jumlah_member_clean\n",
      "0           311                 311\n",
      "1           1I2                 112\n",
      "2           5S0                 550\n",
      "3           670                 670\n",
      "4           81O                 810\n",
      "5           1O2                 102\n"
     ]
    }
   ],
   "source": [
    "#Ubah karakter pada kolom jumlah_member sesuai ketentuan\n",
    "mapchange = {'O':'0','I':'1','S':'5'}\n",
    "dqlabregex['jumlah_member_clean'] = dqlabregex['jumlah_member']\n",
    "\n",
    "for ubah, pengubah in mapchange.items():\n",
    "\tdqlabregex['jumlah_member_clean'] = dqlabregex['jumlah_member_clean'].str.replace(ubah,pengubah, case = False)\n",
    "\n",
    "#Tampilkan hasilnya\n",
    "print(dqlabregex[['jumlah_member', 'jumlah_member_clean']])    "
   ]
  },
  {
   "cell_type": "code",
   "execution_count": 7,
   "id": "d0cf8a96",
   "metadata": {},
   "outputs": [
    {
     "name": "stdout",
     "output_type": "stream",
     "text": [
      "  jumlah_member\n",
      "0           311\n",
      "1            12\n",
      "2            50\n",
      "3           670\n",
      "4            81\n",
      "5            12\n"
     ]
    }
   ],
   "source": [
    "#Sintaks menghapus karakter non-numerik pada kolom jumlah_member\n",
    "dqlabregex['jumlah_member'] = dqlabregex['jumlah_member'].str.replace('[^0-9]', '', regex=True)\n",
    "\n",
    "#Tampilkan hasilnya\n",
    "print(dqlabregex[['jumlah_member']])"
   ]
  },
  {
   "cell_type": "code",
   "execution_count": 8,
   "id": "378ad3a9",
   "metadata": {},
   "outputs": [
    {
     "name": "stdout",
     "output_type": "stream",
     "text": [
      "  tanggal_catat\n",
      "0    05/01/2020\n",
      "1    06/30/2020\n",
      "2    05/02/2020\n",
      "3    06/28/2020\n",
      "4    05/10/2020\n",
      "5    06/28/2020\n"
     ]
    }
   ],
   "source": [
    "#Sintaks merapikan format tanggal pada kolom tanggal_catat\n",
    "dqlabregex['tanggal_catat'] = dqlabregex['tanggal_catat'].str.replace('([0-9]{2})-([0-9]{2})-([0-9]{4})','\\\\2/\\\\1/\\\\3', regex=True)\n",
    "\n",
    "#Tampilkan hasilnya\n",
    "print(dqlabregex[['tanggal_catat']])"
   ]
  },
  {
   "cell_type": "markdown",
   "id": "297a4540",
   "metadata": {},
   "source": [
    "### Case"
   ]
  },
  {
   "cell_type": "code",
   "execution_count": 9,
   "id": "20fd51cd",
   "metadata": {},
   "outputs": [],
   "source": [
    "#Import library yang dibutuhkan\n",
    "import pandas as pd"
   ]
  },
  {
   "cell_type": "code",
   "execution_count": 10,
   "id": "4313a51a",
   "metadata": {},
   "outputs": [
    {
     "name": "stdout",
     "output_type": "stream",
     "text": [
      "Tabel A:\n",
      "   no_pencatatan tanggal_catat      kota jumlah_member staf_pencatat\n",
      "0              1    01-05-2020   Jakarta           311         Andra\n",
      "1              2    30-06-2020   Jakarta           1I2         Andra\n",
      "2              3    05/02/2020   Bandung           5S0        Antara\n",
      "3              4    06/28/2020   Bandung           670        Antara\n",
      "4              5    05/10/2020  Semarang           81O         Senja\n",
      "5              6    06/28/2020  Semarang           1O2        Sendja\n"
     ]
    }
   ],
   "source": [
    "#Baca file dqlabregex.tsv\n",
    "dqlabregex = pd.read_csv(\"https://storage.googleapis.com/dqlab-dataset/dqlabregex.tsv\", sep = '\\t')\n",
    "print(\"Tabel A:\")\n",
    "print(dqlabregex)"
   ]
  },
  {
   "cell_type": "code",
   "execution_count": 11,
   "id": "a2f24357",
   "metadata": {},
   "outputs": [
    {
     "name": "stdout",
     "output_type": "stream",
     "text": [
      "0    2020-05-01\n",
      "1    2020-06-30\n",
      "2    2020-05-02\n",
      "3    2020-06-28\n",
      "4    2020-05-10\n",
      "5    2020-06-28\n",
      "Name: tanggal_catat, dtype: object\n"
     ]
    }
   ],
   "source": [
    "#Ubah karakter pada kolom jumlah_member sesuai ketentuan\n",
    "mapchange = {'([0-9]{2})-([0-9]{2})-([0-9]{4})': '\\\\3-\\\\2-\\\\1', '([0-9]{2})/([0-9]{2})/([0-9]{4})' : '\\\\3-\\\\1-\\\\2'}\n",
    "for ubah, pengubah in mapchange.items():\n",
    "    dqlabregex['tanggal_catat'] = dqlabregex['tanggal_catat'].str.replace(ubah, pengubah, regex=True)\n",
    "\n",
    "print(dqlabregex['tanggal_catat'])"
   ]
  },
  {
   "cell_type": "code",
   "execution_count": 12,
   "id": "8887227b",
   "metadata": {},
   "outputs": [],
   "source": [
    "#Ubah menjadi tipedata datetime pada kolom tanggal_catat\n",
    "dqlabregex['tanggal_catat'] = pd.to_datetime(dqlabregex['tanggal_catat'])"
   ]
  },
  {
   "cell_type": "code",
   "execution_count": 13,
   "id": "67c7021c",
   "metadata": {},
   "outputs": [],
   "source": [
    " #Hapus karakter non numerik pada kolom jumlah_member dan ubah tipedatanya menjadi integer\n",
    "dqlabregex['jumlah_member'] = dqlabregex['jumlah_member'].str.replace('[^0-9]','', regex=True)\n",
    "dqlabregex['jumlah_member'] = dqlabregex['jumlah_member'].astype('int')"
   ]
  },
  {
   "cell_type": "code",
   "execution_count": 14,
   "id": "b52a71ed",
   "metadata": {},
   "outputs": [
    {
     "name": "stderr",
     "output_type": "stream",
     "text": [
      "C:\\Users\\Aghnia\\AppData\\Local\\Temp\\ipykernel_8212\\2661617405.py:2: FutureWarning: The default value of regex will change from True to False in a future version.\n",
      "  dqlabregex['staf_pencatat'] = dqlabregex['staf_pencatat'].str.replace('Sen.?ja', 'Senja')\n"
     ]
    }
   ],
   "source": [
    "#Ubah kata Sendja ataupun padanannya menjadi satu kata 'Senja' pada kolom staf_pencatat\n",
    "dqlabregex['staf_pencatat'] = dqlabregex['staf_pencatat'].str.replace('Sen.?ja', 'Senja')"
   ]
  },
  {
   "cell_type": "code",
   "execution_count": 15,
   "id": "0c735a75",
   "metadata": {},
   "outputs": [
    {
     "name": "stdout",
     "output_type": "stream",
     "text": [
      "\n",
      "Tabel B:\n",
      "   no_pencatatan tanggal_catat      kota  jumlah_member staf_pencatat\n",
      "0              1    2020-05-01   Jakarta            311         Andra\n",
      "1              2    2020-06-30   Jakarta             12         Andra\n",
      "2              3    2020-05-02   Bandung             50        Antara\n",
      "3              4    2020-06-28   Bandung            670        Antara\n",
      "4              5    2020-05-10  Semarang             81         Senja\n",
      "5              6    2020-06-28  Semarang             12         Senja\n"
     ]
    }
   ],
   "source": [
    "#Tampilkan hasilnya\n",
    "print(\"\\nTabel B:\")\n",
    "print(dqlabregex) "
   ]
  }
 ],
 "metadata": {
  "kernelspec": {
   "display_name": "dqlab",
   "language": "python",
   "name": "dqlab"
  },
  "language_info": {
   "codemirror_mode": {
    "name": "ipython",
    "version": 3
   },
   "file_extension": ".py",
   "mimetype": "text/x-python",
   "name": "python",
   "nbconvert_exporter": "python",
   "pygments_lexer": "ipython3",
   "version": "3.10.7"
  }
 },
 "nbformat": 4,
 "nbformat_minor": 5
}
