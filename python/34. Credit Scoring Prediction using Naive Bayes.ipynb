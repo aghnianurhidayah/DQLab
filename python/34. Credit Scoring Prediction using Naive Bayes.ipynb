{
 "cells": [
  {
   "cell_type": "code",
   "execution_count": 1,
   "id": "20d7c4c7",
   "metadata": {},
   "outputs": [],
   "source": [
    "#meng-import library pandas, library ini dapat kita gunakan untuk membaca data dalam format xlsx ataupun csv\n",
    "import pandas as pd\n",
    "pd.set_option('display.max_column', 20)"
   ]
  },
  {
   "cell_type": "code",
   "execution_count": 2,
   "id": "b286019c",
   "metadata": {},
   "outputs": [
    {
     "name": "stdout",
     "output_type": "stream",
     "text": [
      "  kode_kontrak  pendapatan_setahun_juta kpr_aktif  durasi_pinjaman_bulan  \\\n",
      "0   AGR-000001                      295        YA                     48   \n",
      "1   AGR-000011                      271        YA                     36   \n",
      "2   AGR-000030                      159     TIDAK                     12   \n",
      "3   AGR-000043                      210        YA                     12   \n",
      "4   AGR-000049                      165     TIDAK                     36   \n",
      "\n",
      "   jumlah_tanggungan rata_rata_overdue  risk_rating  \n",
      "0                  5      61 - 90 days            4  \n",
      "1                  5      61 - 90 days            4  \n",
      "2                  0       0 - 30 days            1  \n",
      "3                  3      46 - 60 days            3  \n",
      "4                  0      31 - 45 days            2  \n"
     ]
    }
   ],
   "source": [
    "#men-load file data.csv sebagai pandas data frame untuk mempermudah proses pengolahan data\n",
    "df = pd.read_excel('https://storage.googleapis.com/dqlab-dataset/credit_scoring_dqlab.xlsx')\n",
    "\n",
    "#perintah untuk menampilkan 5 data pertama\n",
    "print(df.head())"
   ]
  },
  {
   "cell_type": "code",
   "execution_count": 3,
   "id": "d45b004d",
   "metadata": {},
   "outputs": [
    {
     "name": "stdout",
     "output_type": "stream",
     "text": [
      "   pendapatan_setahun_juta kpr_aktif  durasi_pinjaman_bulan  \\\n",
      "0                      295        YA                     48   \n",
      "1                      271        YA                     36   \n",
      "2                      159     TIDAK                     12   \n",
      "3                      210        YA                     12   \n",
      "4                      165     TIDAK                     36   \n",
      "\n",
      "   jumlah_tanggungan rata_rata_overdue  risk_rating  \n",
      "0                  5      61 - 90 days            4  \n",
      "1                  5      61 - 90 days            4  \n",
      "2                  0       0 - 30 days            1  \n",
      "3                  3      46 - 60 days            3  \n",
      "4                  0      31 - 45 days            2  \n"
     ]
    }
   ],
   "source": [
    "#menghilangkan kolom 'kode_kontrak' dari data frame dikarenakan kolom ini tidak relevan untuk dijadikan input dalam tugas klasifikasi (kode_kontrak tidak mempengaruhi apakah customer akan lanjut berlangganan atau tidak)\n",
    "df.drop('kode_kontrak', axis=1, inplace=True)\n",
    "\n",
    "#memeriksa 5 data teratas\n",
    "print(df.head())"
   ]
  },
  {
   "cell_type": "code",
   "execution_count": 4,
   "id": "ea634c30",
   "metadata": {},
   "outputs": [
    {
     "name": "stdout",
     "output_type": "stream",
     "text": [
      "Rasio kemunculan  label:\n",
      "   risk_rating  percentage_risk_rating\n",
      "3          291               32.333333\n",
      "1          227               25.222222\n",
      "2          159               17.666667\n",
      "4          120               13.333333\n",
      "5          103               11.444444\n"
     ]
    }
   ],
   "source": [
    "#memeriksa rasio kemunculan label\n",
    "print('Rasio kemunculan  label:')\n",
    "print(pd.concat([df['risk_rating'].value_counts(), 100*df['risk_rating'].value_counts(normalize=True).rename('percentage_risk_rating')], axis=1))"
   ]
  },
  {
   "cell_type": "code",
   "execution_count": 5,
   "id": "c2726513",
   "metadata": {},
   "outputs": [
    {
     "name": "stdout",
     "output_type": "stream",
     "text": [
      "\n",
      "Dataset:\n",
      "   pendapatan_setahun_juta kpr_aktif  durasi_pinjaman_bulan  \\\n",
      "0                      295        YA                     48   \n",
      "1                      271        YA                     36   \n",
      "2                      159     TIDAK                     12   \n",
      "3                      210        YA                     12   \n",
      "4                      165     TIDAK                     36   \n",
      "\n",
      "   jumlah_tanggungan rata_rata_overdue  \n",
      "0                  5      61 - 90 days  \n",
      "1                  5      61 - 90 days  \n",
      "2                  0       0 - 30 days  \n",
      "3                  3      46 - 60 days  \n",
      "4                  0      31 - 45 days  \n"
     ]
    }
   ],
   "source": [
    "#menyimpan kolom 'rating' sebagai list ke dalam variabel y\n",
    "y = df.pop('risk_rating').to_list()\n",
    " \n",
    "#untuk setiap label jika nilai label = 5 maka kembalikan nilai 4\n",
    "y = [4 if label == 5 else label for label in y]\n",
    " \n",
    "#mengubah tipe data dari array y menjadi numpy array hal ini dikarenakan beberapa fungsi library scikit-learn hanya kompatibel terhadap numpy array\n",
    "import numpy as np\n",
    "y = np.array(y)\n",
    "\n",
    "print('\\nDataset:')\n",
    "print(df.head())"
   ]
  },
  {
   "cell_type": "code",
   "execution_count": 6,
   "id": "bbf20675",
   "metadata": {},
   "outputs": [
    {
     "name": "stdout",
     "output_type": "stream",
     "text": [
      "   pendapatan_setahun_juta  kpr_aktif  durasi_pinjaman_bulan  \\\n",
      "0                      295          1                     48   \n",
      "1                      271          1                     36   \n",
      "2                      159          0                     12   \n",
      "3                      210          1                     12   \n",
      "4                      165          0                     36   \n",
      "\n",
      "   jumlah_tanggungan rata_rata_overdue  \n",
      "0                  5      61 - 90 days  \n",
      "1                  5      61 - 90 days  \n",
      "2                  0       0 - 30 days  \n",
      "3                  3      46 - 60 days  \n",
      "4                  0      31 - 45 days  \n"
     ]
    }
   ],
   "source": [
    "#menyiapkan fungsi untuk mengubah nilai kpr_aktif\n",
    "def convert_kpr_aktif(kpr_aktif):\n",
    "\tif kpr_aktif == 'YA':\n",
    "\t\treturn 1\n",
    "\treturn 0\n",
    " \n",
    "#mengubah setiap nilai pada kolom kpr aktif menggunakan fungsi 'convert_kpr_aktif'\n",
    "df['kpr_aktif']= df['kpr_aktif'].apply(convert_kpr_aktif)\n",
    "print(df.head())"
   ]
  },
  {
   "cell_type": "code",
   "execution_count": 7,
   "id": "e462700b",
   "metadata": {},
   "outputs": [
    {
     "name": "stdout",
     "output_type": "stream",
     "text": [
      "Rasio kemunculan  setiap kategori rata_rata_overdue:\n",
      "              rata_rata_overdue  percentage_rata_rata_overdue\n",
      "46 - 60 days                291                     32.333333\n",
      "0 - 30 days                 227                     25.222222\n",
      "31 - 45 days                159                     17.666667\n",
      "61 - 90 days                120                     13.333333\n",
      "> 90 days                   103                     11.444444\n"
     ]
    }
   ],
   "source": [
    "#rasio kemunculan setiap kategori rata_rata_overdue\n",
    "print('Rasio kemunculan  setiap kategori rata_rata_overdue:')\n",
    "print(pd.concat([df['rata_rata_overdue'].value_counts(), 100*df['rata_rata_overdue'].value_counts(normalize=True).rename('percentage_rata_rata_overdue')], axis=1))"
   ]
  },
  {
   "cell_type": "code",
   "execution_count": 8,
   "id": "6a2f2391",
   "metadata": {},
   "outputs": [
    {
     "name": "stdout",
     "output_type": "stream",
     "text": [
      "\n",
      "Lima baris dataset teratas:\n",
      "   pendapatan_setahun_juta  kpr_aktif  durasi_pinjaman_bulan  \\\n",
      "0                      295          1                     48   \n",
      "1                      271          1                     36   \n",
      "2                      159          0                     12   \n",
      "3                      210          1                     12   \n",
      "4                      165          0                     36   \n",
      "\n",
      "   jumlah_tanggungan  rata_rata_overdue  \n",
      "0                  5                  3  \n",
      "1                  5                  3  \n",
      "2                  0                  0  \n",
      "3                  3                  2  \n",
      "4                  0                  1  \n"
     ]
    }
   ],
   "source": [
    "#fungsi untuk mengubah nilai dari kolom 'rata_rata_overdue'\n",
    "def change_overdue(overdue):\n",
    "\tif overdue == '0 - 30 days':\n",
    "\t\treturn 0\n",
    "\telif overdue == '31 - 45 days':\n",
    "\t\treturn 1\n",
    "\telif overdue == '46 - 60 days':\n",
    "\t\treturn 2\n",
    "\telif overdue == '61 - 90 days':\n",
    "\t\treturn 3\n",
    "\telse:\n",
    "\t\treturn 4\n",
    "\t\n",
    "#mengaplikasikan fungsi pada kolom 'rata_rata_overdue'\n",
    "df['rata_rata_overdue'] = df['rata_rata_overdue'].apply(change_overdue)\n",
    "\n",
    "print(\"\\nLima baris dataset teratas:\")\n",
    "print(df.head())"
   ]
  },
  {
   "cell_type": "code",
   "execution_count": 9,
   "id": "2f9bb535",
   "metadata": {},
   "outputs": [
    {
     "name": "stdout",
     "output_type": "stream",
     "text": [
      "Dimensi dari variabel X: (900, 5)\n"
     ]
    }
   ],
   "source": [
    "#merepresentasikan seluruh kolom dalam df sebagai matrik dan menampungnya dalam variabel X.\n",
    "X = df.to_numpy()\n",
    "\n",
    "#menampilkan informasi dimensi dari variabel X\n",
    "print('Dimensi dari variabel X:', X.shape)"
   ]
  },
  {
   "cell_type": "code",
   "execution_count": 10,
   "id": "7252aeed",
   "metadata": {},
   "outputs": [
    {
     "name": "stdout",
     "output_type": "stream",
     "text": [
      "Percobaan ke- 1\n",
      "10 indeks data latih pertama: [ 0  1  2  3  4  5  6  7  8 13]\n",
      "10 indeks data testing pertama: [ 9 10 11 12 15 25 29 32 44 52]\n",
      "============================================================\n",
      "Percobaan ke- 2\n",
      "10 indeks data latih pertama: [ 0  2  4  5  6  8  9 10 11 12]\n",
      "10 indeks data testing pertama: [ 1  3  7 14 20 28 37 43 49 59]\n",
      "============================================================\n",
      "Percobaan ke- 3\n",
      "10 indeks data latih pertama: [ 0  1  2  3  4  5  6  7  9 10]\n",
      "10 indeks data testing pertama: [ 8 13 22 23 27 30 31 33 38 39]\n",
      "============================================================\n",
      "Percobaan ke- 4\n",
      "10 indeks data latih pertama: [ 1  3  4  5  6  7  8  9 10 11]\n",
      "10 indeks data testing pertama: [ 0  2 16 17 19 21 24 35 36 42]\n",
      "============================================================\n",
      "Percobaan ke- 5\n",
      "10 indeks data latih pertama: [ 0  1  2  3  7  8  9 10 11 12]\n",
      "10 indeks data testing pertama: [ 4  5  6 18 26 34 40 47 50 54]\n",
      "============================================================\n"
     ]
    }
   ],
   "source": [
    "#library yang akan kita gunakan untuk membagi dataset menggunakan strategi validasi KFold\n",
    "from sklearn.model_selection import KFold\n",
    " \n",
    "#menginisialisasi object KFold dengan jumlah kelompok data = 5 nilai random_state kita gunakan reproducibility (agar data acak yang kita dapatkan untuk setiap kelompok data selalu sama)\n",
    "kf = KFold(n_splits = 5, shuffle=True, random_state = 57)\n",
    " \n",
    "#meminta object kf untuk memecah data X ke sejumlah n kelompok dan mengiterasi setiap train_index dan test_index\n",
    "for i, (train_index, test_index) in enumerate(kf.split(X)):\n",
    "\tX_train, y_train = X[train_index], y[train_index]\n",
    "\tX_test, y_test = X[test_index], y[test_index]\n",
    "\n",
    "\tprint(\"Percobaan ke-\", i+1)\n",
    "\tprint(\"10 indeks data latih pertama:\", train_index[:10])\n",
    "\tprint(\"10 indeks data testing pertama:\", test_index[:10])\n",
    "\tprint(\"============================================================\")"
   ]
  },
  {
   "cell_type": "markdown",
   "id": "cc295c05",
   "metadata": {},
   "source": [
    "berdasarkan 10 indeks data latih dan data testing pertama pada setiap iterasi, indeks yang telah muncul sebagai data latih tidak akan muncul sebagai indeks pada data testing. Selain itu, data latih dan data testing yang digunakan pada setiap percobaan selalu memiliki perbedaan."
   ]
  },
  {
   "cell_type": "code",
   "execution_count": 11,
   "id": "62cb0407",
   "metadata": {},
   "outputs": [
    {
     "name": "stdout",
     "output_type": "stream",
     "text": [
      "Selesai melatih data dengan strategi validasi 5-Fold ke-1.\n",
      "Selesai melatih data dengan strategi validasi 5-Fold ke-2.\n",
      "Selesai melatih data dengan strategi validasi 5-Fold ke-3.\n",
      "Selesai melatih data dengan strategi validasi 5-Fold ke-4.\n",
      "Selesai melatih data dengan strategi validasi 5-Fold ke-5.\n"
     ]
    }
   ],
   "source": [
    "#library yang digunakan untuk menggunakan model MNB\n",
    "from sklearn.naive_bayes import MultinomialNB\n",
    " \n",
    "scores_test = []\n",
    "scores_train = []\n",
    " \n",
    "#meminta object kf untuk memecah data X ke sejumlah n kelompok dan mengiterasi setiap train_index dan test_index\n",
    "for i, (train_index, test_index) in enumerate(kf.split(X)):\n",
    "    X_train, y_train = X[train_index], y[train_index]\n",
    "    X_test, y_test = X[test_index], y[test_index]\n",
    "    model = MultinomialNB()\n",
    "    #menspesifikasikan data latih beserta labelnya untuk dipelajari oleh model\n",
    "    model.fit(X_train, y_train)\n",
    "    print(f'Selesai melatih data dengan strategi validasi 5-Fold ke-{i+1}.')"
   ]
  },
  {
   "cell_type": "code",
   "execution_count": 12,
   "id": "c85e3816",
   "metadata": {},
   "outputs": [
    {
     "name": "stdout",
     "output_type": "stream",
     "text": [
      "Skor latih tertinggi:  0.71\n",
      "Skor latih terendah:  0.68\n",
      "Skor latih rata-rata:  0.7\n",
      "Skor testing tertinggi:  0.76\n",
      "Skor testing terendah:  0.65\n",
      "Skor testing rata-rata:  0.69\n"
     ]
    }
   ],
   "source": [
    "#library yang digunakan untuk menghitung akurasi\n",
    "from sklearn.metrics import accuracy_score\n",
    " \n",
    "#library yang digunakan untuk menggunakan model MNB\n",
    "from sklearn.naive_bayes import MultinomialNB\n",
    " \n",
    "#library yang akan kita gunakan untuk membagi dataset menggunakan strategi validasi KFold\n",
    "from sklearn.model_selection import KFold\n",
    " \n",
    "#menginisialisasi object KFold dengan jumlah kelompok data = 5. nilai random_state kita gunakan reproducibility (agar data acak yang kita dapatkan untuk setiap kelompok data selalu sama)\n",
    "kf = KFold(n_splits = 5, shuffle=True, random_state = 57)\n",
    " \n",
    "scores_test = []\n",
    "scores_train = []\n",
    " \n",
    "#meminta object kf untuk memecah data X ke sejumlah n kelompok dan mengiterasi setiap train_index dan test_index\n",
    "for train_index, test_index in kf.split(X):\n",
    "\tX_train, y_train = X[train_index], y[train_index]\n",
    "\tX_test, y_test = X[test_index], y[test_index]\n",
    "\tmodel = MultinomialNB()\n",
    "\t\n",
    "\t#menspesifikasikan data latih beserta labelnya untuk dipelajari oleh model\n",
    "\tmodel.fit(X_train, y_train)\n",
    "\t\n",
    "\t#meminta model yang telah dilatih untuk memprediksi data X_train\n",
    "\t#menampung hasil prediksi ke dalam variabel y_pred\n",
    "\ty_pred = model.predict(X_train)\n",
    "\t\n",
    "\t#menampung akurasi dari model ke variabel current_score\n",
    "\tcurrent_score = accuracy_score(y_train, y_pred)\n",
    "\t\n",
    "\t#menambahkan skor saat ini ke list scores\n",
    "\tscores_train.append(current_score)\n",
    "\t\n",
    "\t#meminta model yang telah dilatih untuk memprediksi data X_test\n",
    "\t#menampung hasil prediksi ke dalam variabel y_pred\n",
    "\ty_pred = model.predict(X_test)\n",
    "\t\n",
    "\t#menampung akurasi dari model ke variabel current_score\n",
    "\tcurrent_score = accuracy_score(y_test, y_pred)\n",
    "\t\n",
    "\t#menambahkan skor saat ini ke list scores\n",
    "\tscores_test.append(current_score)\n",
    "\t\n",
    "print(\"Skor latih tertinggi: \", round(max(scores_train),2))\n",
    "print(\"Skor latih terendah: \", round(min(scores_train),2))\n",
    "print(\"Skor latih rata-rata: \", round(sum(scores_train)/len(scores_train),2))\n",
    "\n",
    "print(\"Skor testing tertinggi: \", round(max(scores_test),2))\n",
    "print(\"Skor testing terendah: \", round(min(scores_test),2))\n",
    "print(\"Skor testing rata-rata: \", round(sum(scores_test)/len(scores_test),2))"
   ]
  },
  {
   "cell_type": "markdown",
   "id": "8a185790",
   "metadata": {},
   "source": [
    "Model dengan kfold = 10"
   ]
  },
  {
   "cell_type": "code",
   "execution_count": 13,
   "id": "18907ffb",
   "metadata": {},
   "outputs": [
    {
     "name": "stdout",
     "output_type": "stream",
     "text": [
      "Skor latih tertinggi:  0.7\n",
      "Skor latih terendah:  0.69\n",
      "Skor latih rata-rata:  0.69\n",
      "Skor testing tertinggi:  0.79\n",
      "Skor testing terendah:  0.61\n",
      "Skor testing rata-rata:  0.7\n"
     ]
    }
   ],
   "source": [
    "#menginisialisasi object KFold dengan jumlah kelompok data = 10. nilai random_state kita gunakan reproducibility (agar data acak yang kita dapatkan untuk setiap kelompok data selalu sama)\n",
    "kf = KFold(n_splits = 10, shuffle=True, random_state = 57)\n",
    " \n",
    "scores_test = []\n",
    "scores_train = []\n",
    "\n",
    "#meminta object kf untuk memecah data X ke sejumlah n kelompok dan mengiterasi setiap train_index dan test_index\n",
    "for train_index, test_index in kf.split(X):\n",
    "    X_train, y_train = X[train_index], y[train_index]\n",
    "    X_test, y_test = X[test_index], y[test_index]\n",
    "    model = MultinomialNB()\n",
    "    \n",
    "    #menspesifikasikan data latih beserta labelnya untuk dipelajari oleh model\n",
    "    model.fit(X_train, y_train)\n",
    "\t\n",
    "    #meminta model yang telah dilatih untuk memprediksi data X_train\n",
    "\t#menampung hasil prediksi ke dalam variabel y_pred\n",
    "    y_pred = model.predict(X_train)\n",
    "\t\n",
    "    #menampung akurasi dari model ke variabel current_score\n",
    "    current_score = accuracy_score(y_train, y_pred)\n",
    "\t\n",
    "    #menambahkan skor saat ini ke list scores\n",
    "    scores_train.append(current_score)\n",
    "\t\n",
    "    #meminta model yang telah dilatih untuk memprediksi data X_test\n",
    "\t#menampung hasil prediksi ke dalam variabel y_pred\n",
    "    y_pred = model.predict(X_test)\n",
    "    \n",
    "    #menampung akurasi dari model ke variabel current_score\n",
    "    current_score = accuracy_score(y_test, y_pred)\n",
    "    \n",
    "    #menambahkan skor saat ini ke list scores\n",
    "    scores_test.append(current_score)\n",
    "\t\n",
    "print(\"Skor latih tertinggi: \", round(max(scores_train),2))\n",
    "print(\"Skor latih terendah: \", round(min(scores_train),2))\n",
    "print(\"Skor latih rata-rata: \", round(sum(scores_train)/ len(scores_train),2))\n",
    "\n",
    "print(\"Skor testing tertinggi: \", round(max(scores_test),2))\n",
    "print(\"Skor testing terendah: \", round(min(scores_test),2))\n",
    "print(\"Skor testing rata-rata: \", round(sum(scores_test)/ len(scores_test),2))"
   ]
  },
  {
   "cell_type": "code",
   "execution_count": 14,
   "id": "85255166",
   "metadata": {},
   "outputs": [
    {
     "name": "stdout",
     "output_type": "stream",
     "text": [
      "[4 1 1]\n"
     ]
    }
   ],
   "source": [
    "#merepresentasikan ketiga data sebagai variabel X_new\n",
    "X_new = [\n",
    "    [320,1,36,1,2],\n",
    "    [220,0,12,0,1],\n",
    "    [300,0,12,2,0]\n",
    "]\n",
    " \n",
    "print(model.predict(X_new))"
   ]
  }
 ],
 "metadata": {
  "kernelspec": {
   "display_name": "dqlab",
   "language": "python",
   "name": "dqlab"
  },
  "language_info": {
   "codemirror_mode": {
    "name": "ipython",
    "version": 3
   },
   "file_extension": ".py",
   "mimetype": "text/x-python",
   "name": "python",
   "nbconvert_exporter": "python",
   "pygments_lexer": "ipython3",
   "version": "3.10.7"
  }
 },
 "nbformat": 4,
 "nbformat_minor": 5
}
