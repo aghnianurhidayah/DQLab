{
 "cells": [
  {
   "cell_type": "markdown",
   "id": "1e1a155e",
   "metadata": {},
   "source": [
    "#### Import library"
   ]
  },
  {
   "cell_type": "code",
   "execution_count": 1,
   "id": "cf4d36b2",
   "metadata": {},
   "outputs": [],
   "source": [
    "import pandas as pd"
   ]
  },
  {
   "cell_type": "markdown",
   "id": "a2850075",
   "metadata": {},
   "source": [
    "#### Membaca dataset"
   ]
  },
  {
   "cell_type": "code",
   "execution_count": 2,
   "id": "b9fc11a0",
   "metadata": {},
   "outputs": [
    {
     "data": {
      "text/html": [
       "<div>\n",
       "<style scoped>\n",
       "    .dataframe tbody tr th:only-of-type {\n",
       "        vertical-align: middle;\n",
       "    }\n",
       "\n",
       "    .dataframe tbody tr th {\n",
       "        vertical-align: top;\n",
       "    }\n",
       "\n",
       "    .dataframe thead th {\n",
       "        text-align: right;\n",
       "    }\n",
       "</style>\n",
       "<table border=\"1\" class=\"dataframe\">\n",
       "  <thead>\n",
       "    <tr style=\"text-align: right;\">\n",
       "      <th></th>\n",
       "      <th>CustomerID</th>\n",
       "      <th>Genre</th>\n",
       "      <th>Age</th>\n",
       "      <th>Annual Income (k$)</th>\n",
       "      <th>Spending Score (1-100)</th>\n",
       "    </tr>\n",
       "  </thead>\n",
       "  <tbody>\n",
       "    <tr>\n",
       "      <th>0</th>\n",
       "      <td>1</td>\n",
       "      <td>Male</td>\n",
       "      <td>19</td>\n",
       "      <td>15</td>\n",
       "      <td>39</td>\n",
       "    </tr>\n",
       "    <tr>\n",
       "      <th>1</th>\n",
       "      <td>2</td>\n",
       "      <td>Male</td>\n",
       "      <td>21</td>\n",
       "      <td>15</td>\n",
       "      <td>81</td>\n",
       "    </tr>\n",
       "    <tr>\n",
       "      <th>2</th>\n",
       "      <td>3</td>\n",
       "      <td>Female</td>\n",
       "      <td>20</td>\n",
       "      <td>16</td>\n",
       "      <td>6</td>\n",
       "    </tr>\n",
       "    <tr>\n",
       "      <th>3</th>\n",
       "      <td>4</td>\n",
       "      <td>Female</td>\n",
       "      <td>23</td>\n",
       "      <td>16</td>\n",
       "      <td>77</td>\n",
       "    </tr>\n",
       "    <tr>\n",
       "      <th>4</th>\n",
       "      <td>5</td>\n",
       "      <td>Female</td>\n",
       "      <td>31</td>\n",
       "      <td>17</td>\n",
       "      <td>40</td>\n",
       "    </tr>\n",
       "    <tr>\n",
       "      <th>...</th>\n",
       "      <td>...</td>\n",
       "      <td>...</td>\n",
       "      <td>...</td>\n",
       "      <td>...</td>\n",
       "      <td>...</td>\n",
       "    </tr>\n",
       "    <tr>\n",
       "      <th>195</th>\n",
       "      <td>196</td>\n",
       "      <td>Female</td>\n",
       "      <td>35</td>\n",
       "      <td>120</td>\n",
       "      <td>79</td>\n",
       "    </tr>\n",
       "    <tr>\n",
       "      <th>196</th>\n",
       "      <td>197</td>\n",
       "      <td>Female</td>\n",
       "      <td>45</td>\n",
       "      <td>126</td>\n",
       "      <td>28</td>\n",
       "    </tr>\n",
       "    <tr>\n",
       "      <th>197</th>\n",
       "      <td>198</td>\n",
       "      <td>Male</td>\n",
       "      <td>32</td>\n",
       "      <td>126</td>\n",
       "      <td>74</td>\n",
       "    </tr>\n",
       "    <tr>\n",
       "      <th>198</th>\n",
       "      <td>199</td>\n",
       "      <td>Male</td>\n",
       "      <td>32</td>\n",
       "      <td>137</td>\n",
       "      <td>18</td>\n",
       "    </tr>\n",
       "    <tr>\n",
       "      <th>199</th>\n",
       "      <td>200</td>\n",
       "      <td>Male</td>\n",
       "      <td>30</td>\n",
       "      <td>137</td>\n",
       "      <td>83</td>\n",
       "    </tr>\n",
       "  </tbody>\n",
       "</table>\n",
       "<p>200 rows × 5 columns</p>\n",
       "</div>"
      ],
      "text/plain": [
       "     CustomerID   Genre  Age  Annual Income (k$)  Spending Score (1-100)\n",
       "0             1    Male   19                  15                      39\n",
       "1             2    Male   21                  15                      81\n",
       "2             3  Female   20                  16                       6\n",
       "3             4  Female   23                  16                      77\n",
       "4             5  Female   31                  17                      40\n",
       "..          ...     ...  ...                 ...                     ...\n",
       "195         196  Female   35                 120                      79\n",
       "196         197  Female   45                 126                      28\n",
       "197         198    Male   32                 126                      74\n",
       "198         199    Male   32                 137                      18\n",
       "199         200    Male   30                 137                      83\n",
       "\n",
       "[200 rows x 5 columns]"
      ]
     },
     "execution_count": 2,
     "metadata": {},
     "output_type": "execute_result"
    }
   ],
   "source": [
    "csv_data = pd.read_csv(\"https://storage.googleapis.com/dqlab-dataset/shopping_data.csv\")\n",
    "csv_data"
   ]
  },
  {
   "cell_type": "markdown",
   "id": "1ae28706",
   "metadata": {},
   "source": [
    "#### Menampilkan 5 data teratas"
   ]
  },
  {
   "cell_type": "code",
   "execution_count": 3,
   "id": "3f59cbaa",
   "metadata": {},
   "outputs": [
    {
     "data": {
      "text/html": [
       "<div>\n",
       "<style scoped>\n",
       "    .dataframe tbody tr th:only-of-type {\n",
       "        vertical-align: middle;\n",
       "    }\n",
       "\n",
       "    .dataframe tbody tr th {\n",
       "        vertical-align: top;\n",
       "    }\n",
       "\n",
       "    .dataframe thead th {\n",
       "        text-align: right;\n",
       "    }\n",
       "</style>\n",
       "<table border=\"1\" class=\"dataframe\">\n",
       "  <thead>\n",
       "    <tr style=\"text-align: right;\">\n",
       "      <th></th>\n",
       "      <th>CustomerID</th>\n",
       "      <th>Genre</th>\n",
       "      <th>Age</th>\n",
       "      <th>Annual Income (k$)</th>\n",
       "      <th>Spending Score (1-100)</th>\n",
       "    </tr>\n",
       "  </thead>\n",
       "  <tbody>\n",
       "    <tr>\n",
       "      <th>0</th>\n",
       "      <td>1</td>\n",
       "      <td>Male</td>\n",
       "      <td>19</td>\n",
       "      <td>15</td>\n",
       "      <td>39</td>\n",
       "    </tr>\n",
       "    <tr>\n",
       "      <th>1</th>\n",
       "      <td>2</td>\n",
       "      <td>Male</td>\n",
       "      <td>21</td>\n",
       "      <td>15</td>\n",
       "      <td>81</td>\n",
       "    </tr>\n",
       "    <tr>\n",
       "      <th>2</th>\n",
       "      <td>3</td>\n",
       "      <td>Female</td>\n",
       "      <td>20</td>\n",
       "      <td>16</td>\n",
       "      <td>6</td>\n",
       "    </tr>\n",
       "    <tr>\n",
       "      <th>3</th>\n",
       "      <td>4</td>\n",
       "      <td>Female</td>\n",
       "      <td>23</td>\n",
       "      <td>16</td>\n",
       "      <td>77</td>\n",
       "    </tr>\n",
       "    <tr>\n",
       "      <th>4</th>\n",
       "      <td>5</td>\n",
       "      <td>Female</td>\n",
       "      <td>31</td>\n",
       "      <td>17</td>\n",
       "      <td>40</td>\n",
       "    </tr>\n",
       "  </tbody>\n",
       "</table>\n",
       "</div>"
      ],
      "text/plain": [
       "   CustomerID   Genre  Age  Annual Income (k$)  Spending Score (1-100)\n",
       "0           1    Male   19                  15                      39\n",
       "1           2    Male   21                  15                      81\n",
       "2           3  Female   20                  16                       6\n",
       "3           4  Female   23                  16                      77\n",
       "4           5  Female   31                  17                      40"
      ]
     },
     "execution_count": 3,
     "metadata": {},
     "output_type": "execute_result"
    }
   ],
   "source": [
    "csv_data.head()"
   ]
  },
  {
   "cell_type": "markdown",
   "id": "cfedab5a",
   "metadata": {},
   "source": [
    "#### Mengakses data kolom"
   ]
  },
  {
   "cell_type": "code",
   "execution_count": 5,
   "id": "5fd58af4",
   "metadata": {},
   "outputs": [
    {
     "name": "stdout",
     "output_type": "stream",
     "text": [
      "Index(['CustomerID', 'Genre', 'Age', 'Annual Income (k$)',\n",
      "       'Spending Score (1-100)'],\n",
      "      dtype='object')\n"
     ]
    }
   ],
   "source": [
    "# menampilkan nama kolom\n",
    "print(csv_data.columns)"
   ]
  },
  {
   "cell_type": "code",
   "execution_count": 6,
   "id": "a8bfe5d4",
   "metadata": {},
   "outputs": [
    {
     "name": "stdout",
     "output_type": "stream",
     "text": [
      "0      19\n",
      "1      21\n",
      "2      20\n",
      "3      23\n",
      "4      31\n",
      "       ..\n",
      "195    35\n",
      "196    45\n",
      "197    32\n",
      "198    32\n",
      "199    30\n",
      "Name: Age, Length: 200, dtype: int64\n"
     ]
    }
   ],
   "source": [
    "# menampilkan data kolom 'Age'\n",
    "print(csv_data[\"Age\"])"
   ]
  },
  {
   "cell_type": "markdown",
   "id": "0af9dba1",
   "metadata": {},
   "source": [
    "#### Mengakses data baris"
   ]
  },
  {
   "cell_type": "code",
   "execution_count": 7,
   "id": "246bc44d",
   "metadata": {},
   "outputs": [
    {
     "name": "stdout",
     "output_type": "stream",
     "text": [
      "CustomerID                     5\n",
      "Genre                     Female\n",
      "Age                           31\n",
      "Annual Income (k$)            17\n",
      "Spending Score (1-100)        40\n",
      "Name: 4, dtype: object\n"
     ]
    }
   ],
   "source": [
    "# menampilkan data pada baris ke-4\n",
    "print(csv_data.iloc[4])"
   ]
  },
  {
   "cell_type": "markdown",
   "id": "9c40b585",
   "metadata": {},
   "source": [
    "#### Menampilkan data dari kolom dan baris tertentu"
   ]
  },
  {
   "cell_type": "code",
   "execution_count": 8,
   "id": "e6c1a7c5",
   "metadata": {},
   "outputs": [
    {
     "name": "stdout",
     "output_type": "stream",
     "text": [
      "21\n",
      "\n",
      "Cuplikan Dataset:\n",
      "   CustomerID   Genre  Age  Annual Income (k$)  Spending Score (1-100)\n",
      "0           1    Male   19                  15                      39\n",
      "1           2    Male   21                  15                      81\n",
      "2           3  Female   20                  16                       6\n",
      "3           4  Female   23                  16                      77\n",
      "4           5  Female   31                  17                      40\n"
     ]
    }
   ],
   "source": [
    "# menampilkan data pada kolom Age baris ke-1\n",
    "print(csv_data[\"Age\"].iloc[1])\n",
    "\n",
    "print(\"\\nCuplikan Dataset:\")\n",
    "\n",
    "print(csv_data.head())"
   ]
  },
  {
   "cell_type": "markdown",
   "id": "8e1a8413",
   "metadata": {},
   "source": [
    "#### Menampilkan data dalam range tertentu"
   ]
  },
  {
   "cell_type": "code",
   "execution_count": 9,
   "id": "b260de0a",
   "metadata": {},
   "outputs": [
    {
     "name": "stdout",
     "output_type": "stream",
     "text": [
      "Menampilkan data ke 5 sampai kurang dari 10 :\n",
      "5    22\n",
      "6    35\n",
      "7    23\n",
      "8    64\n",
      "9    30\n",
      "Name: Age, dtype: int64\n"
     ]
    }
   ],
   "source": [
    "print(\"Menampilkan data ke 5 sampai kurang dari 10 :\")\n",
    "\n",
    "# menampilkan data pada kolom age dari baris ke-5 hingga baris ke-9\n",
    "print(csv_data[\"Age\"].iloc[5:10])"
   ]
  },
  {
   "cell_type": "code",
   "execution_count": 10,
   "id": "460b189d",
   "metadata": {},
   "outputs": [
    {
     "name": "stdout",
     "output_type": "stream",
     "text": [
      "Menampilkan data ke 5 sampai kurang dari 10 dalam satu baris:\n",
      "   CustomerID   Genre  Age  Annual Income (k$)  Spending Score (1-100)\n",
      "5           6  Female   22                  17                      76\n",
      "6           7  Female   35                  18                       6\n",
      "7           8  Female   23                  18                      94\n",
      "8           9    Male   64                  19                       3\n",
      "9          10  Female   30                  19                      72\n"
     ]
    }
   ],
   "source": [
    "print(\"Menampilkan data ke 5 sampai kurang dari 10 dalam satu baris:\")\n",
    "\n",
    "# menampilkan data dari baris ke-5 hingga baris ke-9\n",
    "print(csv_data.iloc[5:10])"
   ]
  },
  {
   "cell_type": "markdown",
   "id": "51cf5925",
   "metadata": {},
   "source": [
    "#### Menampilkan informasi statistik"
   ]
  },
  {
   "cell_type": "code",
   "execution_count": 11,
   "id": "1e454d01",
   "metadata": {},
   "outputs": [
    {
     "name": "stdout",
     "output_type": "stream",
     "text": [
      "        CustomerID   Genre         Age  Annual Income (k$)  \\\n",
      "count   200.000000     200  200.000000          200.000000   \n",
      "unique         NaN       2         NaN                 NaN   \n",
      "top            NaN  Female         NaN                 NaN   \n",
      "freq           NaN     112         NaN                 NaN   \n",
      "mean    100.500000     NaN   38.850000           60.560000   \n",
      "std      57.879185     NaN   13.969007           26.264721   \n",
      "min       1.000000     NaN   18.000000           15.000000   \n",
      "25%      50.750000     NaN   28.750000           41.500000   \n",
      "50%     100.500000     NaN   36.000000           61.500000   \n",
      "75%     150.250000     NaN   49.000000           78.000000   \n",
      "max     200.000000     NaN   70.000000          137.000000   \n",
      "\n",
      "        Spending Score (1-100)  \n",
      "count               200.000000  \n",
      "unique                     NaN  \n",
      "top                        NaN  \n",
      "freq                       NaN  \n",
      "mean                 50.200000  \n",
      "std                  25.823522  \n",
      "min                   1.000000  \n",
      "25%                  34.750000  \n",
      "50%                  50.000000  \n",
      "75%                  73.000000  \n",
      "max                  99.000000  \n"
     ]
    }
   ],
   "source": [
    "# menampilkan informasi statistik semua tipe data\n",
    "print(csv_data.describe(include=\"all\"))"
   ]
  },
  {
   "cell_type": "code",
   "execution_count": 12,
   "id": "cde47118",
   "metadata": {},
   "outputs": [
    {
     "name": "stdout",
     "output_type": "stream",
     "text": [
      "       CustomerID         Age  Annual Income (k$)  Spending Score (1-100)\n",
      "count  200.000000  200.000000          200.000000              200.000000\n",
      "mean   100.500000   38.850000           60.560000               50.200000\n",
      "std     57.879185   13.969007           26.264721               25.823522\n",
      "min      1.000000   18.000000           15.000000                1.000000\n",
      "25%     50.750000   28.750000           41.500000               34.750000\n",
      "50%    100.500000   36.000000           61.500000               50.000000\n",
      "75%    150.250000   49.000000           78.000000               73.000000\n",
      "max    200.000000   70.000000          137.000000               99.000000\n"
     ]
    }
   ],
   "source": [
    "# menampilkan informasi statistik hanya tipe data numerik\n",
    "print(csv_data.describe(exclude=[\"O\"]))"
   ]
  },
  {
   "cell_type": "markdown",
   "id": "be6b358f",
   "metadata": {},
   "source": [
    "#### Mengecek nilai null pada dataset"
   ]
  },
  {
   "cell_type": "code",
   "execution_count": 13,
   "id": "8d3de6be",
   "metadata": {},
   "outputs": [
    {
     "name": "stdout",
     "output_type": "stream",
     "text": [
      "False\n"
     ]
    }
   ],
   "source": [
    "print(csv_data.isnull().values.any())"
   ]
  },
  {
   "cell_type": "code",
   "execution_count": 14,
   "id": "f2345a9c",
   "metadata": {},
   "outputs": [
    {
     "name": "stdout",
     "output_type": "stream",
     "text": [
      "True\n"
     ]
    }
   ],
   "source": [
    "csv_data_missingvalue = pd.read_csv(\"https://storage.googleapis.com/dqlab-dataset/shopping_data_missingvalue.csv\")\n",
    "\n",
    "print(csv_data_missingvalue.isnull().values.any())"
   ]
  },
  {
   "cell_type": "markdown",
   "id": "330e1b27",
   "metadata": {},
   "source": [
    "Missing value solution: \n",
    "1. Delete Data \n",
    "   - Deleting Rows\n",
    "   - Pairwise Delete\n",
    "   - Delete Column\n",
    "2. Imputation \n",
    "   - Time Series Problem<br>\n",
    "   Data without Trend and with Seasonality = Mean, Median, Mode, Random<br>\n",
    "   Data with Trend and without Seasonality = Linear Interpolation<br>\n",
    "   Data with Trend and with Seasonality = Seasonal Suggestion + Interpolation\n",
    "   - General Problem<br>\n",
    "   Data Categorical = Mak NA as Multiple Imputation and Logistic Regression<br>\n",
    "   Data Numerical or Continuous = Mean, Median, Mode, Multiple Imputation and Linear Regression"
   ]
  },
  {
   "cell_type": "markdown",
   "id": "13506d1d",
   "metadata": {},
   "source": [
    "#### Mengisi missing value dengan Mean"
   ]
  },
  {
   "cell_type": "code",
   "execution_count": 15,
   "id": "1ed127dc",
   "metadata": {},
   "outputs": [
    {
     "name": "stdout",
     "output_type": "stream",
     "text": [
      "CustomerID                100.500000\n",
      "Age                        38.939698\n",
      "Annual Income (k$)         61.005051\n",
      "Spending Score (1-100)     50.489899\n",
      "dtype: float64\n",
      "\n",
      "Dataset yang masih terdapat nilai kosong ! :\n",
      "   CustomerID   Genre   Age  Annual Income (k$)  Spending Score (1-100)\n",
      "0           1    Male  19.0                15.0                    39.0\n",
      "1           2    Male   NaN                15.0                    81.0\n",
      "2           3  Female  20.0                 NaN                     6.0\n",
      "3           4  Female  23.0                16.0                    77.0\n",
      "4           5  Female  31.0                17.0                     NaN\n",
      "5           6  Female  22.0                 NaN                    76.0\n",
      "6           7  Female  35.0                18.0                     6.0\n",
      "7           8  Female  23.0                18.0                    94.0\n",
      "8           9    Male  64.0                19.0                     NaN\n",
      "9          10  Female  30.0                19.0                    72.0\n",
      "\n",
      "Dataset yang sudah diproses Handling Missing Values dengan Mean :\n",
      "   CustomerID   Genre        Age  Annual Income (k$)  Spending Score (1-100)\n",
      "0           1    Male  19.000000           15.000000               39.000000\n",
      "1           2    Male  38.939698           15.000000               81.000000\n",
      "2           3  Female  20.000000           61.005051                6.000000\n",
      "3           4  Female  23.000000           16.000000               77.000000\n",
      "4           5  Female  31.000000           17.000000               50.489899\n",
      "5           6  Female  22.000000           61.005051               76.000000\n",
      "6           7  Female  35.000000           18.000000                6.000000\n",
      "7           8  Female  23.000000           18.000000               94.000000\n",
      "8           9    Male  64.000000           19.000000               50.489899\n",
      "9          10  Female  30.000000           19.000000               72.000000\n"
     ]
    }
   ],
   "source": [
    "print(csv_data_missingvalue.mean(numeric_only=True))\n",
    "\n",
    "print(\"\\nDataset yang masih terdapat nilai kosong ! :\")\n",
    "print(csv_data_missingvalue.head(10))\n",
    "\n",
    "csv_data_missingvalue=csv_data_missingvalue.fillna(csv_data_missingvalue.mean(numeric_only=True))\n",
    "print(\"\\nDataset yang sudah diproses Handling Missing Values dengan Mean :\")\n",
    "print(csv_data_missingvalue.head(10))"
   ]
  },
  {
   "cell_type": "markdown",
   "id": "95d42724",
   "metadata": {},
   "source": [
    "#### Mengisi missing value dengan Median"
   ]
  },
  {
   "cell_type": "code",
   "execution_count": 16,
   "id": "98a28c19",
   "metadata": {},
   "outputs": [
    {
     "name": "stdout",
     "output_type": "stream",
     "text": [
      "CustomerID                100.500000\n",
      "Age                        36.000000\n",
      "Annual Income (k$)         61.502525\n",
      "Spending Score (1-100)     50.000000\n",
      "dtype: float64\n",
      "\n",
      "Dataset yang masih terdapat nilai kosong ! :\n",
      "   CustomerID   Genre        Age  Annual Income (k$)  Spending Score (1-100)\n",
      "0           1    Male  19.000000           15.000000               39.000000\n",
      "1           2    Male  38.939698           15.000000               81.000000\n",
      "2           3  Female  20.000000           61.005051                6.000000\n",
      "3           4  Female  23.000000           16.000000               77.000000\n",
      "4           5  Female  31.000000           17.000000               50.489899\n",
      "5           6  Female  22.000000           61.005051               76.000000\n",
      "6           7  Female  35.000000           18.000000                6.000000\n",
      "7           8  Female  23.000000           18.000000               94.000000\n",
      "8           9    Male  64.000000           19.000000               50.489899\n",
      "9          10  Female  30.000000           19.000000               72.000000\n",
      "\n",
      "Dataset yang sudah diproses Handling Missing Values dengan Median :\n",
      "   CustomerID   Genre  Age  Annual Income (k$)  Spending Score (1-100)\n",
      "0           1    Male   19                  15                      39\n",
      "1           2    Male   21                  15                      81\n",
      "2           3  Female   20                  16                       6\n",
      "3           4  Female   23                  16                      77\n",
      "4           5  Female   31                  17                      40\n",
      "5           6  Female   22                  17                      76\n",
      "6           7  Female   35                  18                       6\n",
      "7           8  Female   23                  18                      94\n",
      "8           9    Male   64                  19                       3\n",
      "9          10  Female   30                  19                      72\n"
     ]
    }
   ],
   "source": [
    "print(csv_data_missingvalue.median(numeric_only=True))\n",
    "\n",
    "print(\"\\nDataset yang masih terdapat nilai kosong ! :\")\n",
    "print(csv_data_missingvalue.head(10))\n",
    "\n",
    "csv_data_missingvalue=csv_data_missingvalue.fillna(csv_data_missingvalue.median(numeric_only=True))\n",
    "print(\"\\nDataset yang sudah diproses Handling Missing Values dengan Median :\")\n",
    "print(csv_data.head(10))"
   ]
  },
  {
   "cell_type": "markdown",
   "id": "a72350f5",
   "metadata": {},
   "source": [
    "#### Normalisasi Data"
   ]
  },
  {
   "cell_type": "code",
   "execution_count": 17,
   "id": "3b703dea",
   "metadata": {},
   "outputs": [
    {
     "name": "stdout",
     "output_type": "stream",
     "text": [
      "\n",
      "dataset sebelum dinormalisasi :\n",
      "  Customer ID  Gender Age Income Spending Score\n",
      "0           1    Male  19     15             39\n",
      "1           2    Male  21     15             81\n",
      "2           3  Female  20     16              6\n",
      "3           4  Female  23     16             77\n",
      "4           5  Female  31     17             40\n",
      "5           6  Female  22     17             76\n",
      "6           7  Female  35     18              6\n",
      "7           8  Female  23     18             94\n",
      "8           9    Male  64     19              3\n",
      "9          10  Female  30     19             72\n",
      "\n",
      "dataset setelah dinormalisasi :\n",
      "        Age    Income  Spending Score Customer ID  Gender\n",
      "0  0.019231  0.000000        0.387755           1    Male\n",
      "1  0.057692  0.000000        0.816327           2    Male\n",
      "2  0.038462  0.008197        0.051020           3  Female\n",
      "3  0.096154  0.008197        0.775510           4  Female\n",
      "4  0.250000  0.016393        0.397959           5  Female\n",
      "5  0.076923  0.016393        0.765306           6  Female\n",
      "6  0.326923  0.024590        0.051020           7  Female\n",
      "7  0.096154  0.024590        0.948980           8  Female\n",
      "8  0.884615  0.032787        0.020408           9    Male\n",
      "9  0.230769  0.032787        0.724490          10  Female\n"
     ]
    }
   ],
   "source": [
    "import numpy as np\n",
    "from sklearn import preprocessing\n",
    "\n",
    "csv_data = pd.read_csv(\"https://storage.googleapis.com/dqlab-dataset/shopping_data.csv\")\n",
    "array = csv_data.values\n",
    "\n",
    "X = array[:,2:5] #memisahkan fitur dari dataset. \n",
    "Y = array[:,0:1]  #memisahkan class dari dataset\n",
    "\n",
    "dataset=pd.DataFrame({\"Customer ID\":array[:,0],\"Gender\":array[:,1],\"Age\":array[:,2],\"Income\":array[:,3],\"Spending Score\":array[:,4]})\n",
    "print(\"\\ndataset sebelum dinormalisasi :\")\n",
    "print(dataset.head(10))\n",
    "\n",
    "min_max_scaler = preprocessing.MinMaxScaler(feature_range=(0,1)) #inisialisasi normalisasi MinMax\n",
    "data = min_max_scaler.fit_transform(X) #transformasi MinMax untuk fitur\n",
    "dataset = pd.DataFrame({\"Age\":data[:,0],\"Income\":data[:,1],\"Spending Score\":data[:,2],\"Customer ID\":array[:,0],\"Gender\":array[:,1]})\n",
    "\n",
    "print(\"\\ndataset setelah dinormalisasi :\")\n",
    "print(dataset.head(10))"
   ]
  }
 ],
 "metadata": {
  "kernelspec": {
   "display_name": "dqlab",
   "language": "python",
   "name": "dqlab"
  },
  "language_info": {
   "codemirror_mode": {
    "name": "ipython",
    "version": 3
   },
   "file_extension": ".py",
   "mimetype": "text/x-python",
   "name": "python",
   "nbconvert_exporter": "python",
   "pygments_lexer": "ipython3",
   "version": "3.10.7"
  }
 },
 "nbformat": 4,
 "nbformat_minor": 5
}
