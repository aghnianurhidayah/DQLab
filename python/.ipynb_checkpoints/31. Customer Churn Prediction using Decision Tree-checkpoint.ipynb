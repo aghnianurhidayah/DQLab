{
 "cells": [
  {
   "cell_type": "code",
   "execution_count": 1,
   "id": "bd1a7bda",
   "metadata": {},
   "outputs": [],
   "source": [
    "import pandas as pd\n",
    "pd.set_option('display.max_column', 20)"
   ]
  },
  {
   "cell_type": "code",
   "execution_count": 2,
   "id": "82a3d9c2",
   "metadata": {},
   "outputs": [],
   "source": [
    "df = pd.read_excel('https://storage.googleapis.com/dqlab-dataset/cth_churn_analysis_train.xlsx')"
   ]
  },
  {
   "cell_type": "code",
   "execution_count": 3,
   "id": "9d6d8974",
   "metadata": {},
   "outputs": [
    {
     "name": "stdout",
     "output_type": "stream",
     "text": [
      "  ID_Customer Jenis_kelamin  umur  membership_program using_reward  \\\n",
      "0   1005-CTMP     Perempuan    41                  36           No   \n",
      "1   1007-STSJ     Laki-laki    27                  36          Yes   \n",
      "2   1012-NCGH     Laki-laki    45                  36           No   \n",
      "3   1014-WWBN     Perempuan    33                  12           No   \n",
      "4   1024-HYUA     Perempuan    38                  12           No   \n",
      "\n",
      "      pembayaran Subscribe_brochure  harga_per_bulan  jumlah_harga_langganan  \\\n",
      "0           Cash                 No            10000                  360000   \n",
      "1  Bank Transfer              Email            10000                  360000   \n",
      "2           Cash                 No            10000                  360000   \n",
      "3  Bank Transfer                Yes            10000                  120000   \n",
      "4           Cash                 No            10000                  120000   \n",
      "\n",
      "  churn  \n",
      "0   Yes  \n",
      "1   Yes  \n",
      "2    No  \n",
      "3    No  \n",
      "4    No  \n"
     ]
    }
   ],
   "source": [
    "print(df.head())"
   ]
  },
  {
   "cell_type": "code",
   "execution_count": 4,
   "id": "3391c66d",
   "metadata": {},
   "outputs": [
    {
     "name": "stdout",
     "output_type": "stream",
     "text": [
      "    Jenis_kelamin  umur  membership_program using_reward     pembayaran  \\\n",
      "0       Perempuan    41                  36           No           Cash   \n",
      "1       Laki-laki    27                  36          Yes  Bank Transfer   \n",
      "2       Laki-laki    45                  36           No           Cash   \n",
      "3       Perempuan    33                  12           No  Bank Transfer   \n",
      "4       Perempuan    38                  12           No           Cash   \n",
      "..            ...   ...                 ...          ...            ...   \n",
      "494     Perempuan    42                  24           No           Cash   \n",
      "495     Perempuan    27                  24          Yes  Bank Transfer   \n",
      "496     Laki-laki    25                   6           No  Bank Transfer   \n",
      "497     Laki-laki    35                   6           No    Credit Card   \n",
      "498     Perempuan    45                  12          Yes           Cash   \n",
      "\n",
      "    Subscribe_brochure  harga_per_bulan  jumlah_harga_langganan churn  \n",
      "0                   No            10000                  360000   Yes  \n",
      "1                Email            10000                  360000   Yes  \n",
      "2                   No            10000                  360000    No  \n",
      "3                  Yes            10000                  120000    No  \n",
      "4                   No            10000                  120000    No  \n",
      "..                 ...              ...                     ...   ...  \n",
      "494                Yes            10000                  240000   Yes  \n",
      "495                Yes            10000                  240000   Yes  \n",
      "496                Yes            10000                   60000   Yes  \n",
      "497              Email            10000                   60000    No  \n",
      "498                 No            10000                  120000   Yes  \n",
      "\n",
      "[499 rows x 9 columns]\n"
     ]
    }
   ],
   "source": [
    "#menghilangkan kolom 'ID_Customer' dari data frame dikarenakan kolom ini tidak relevan untuk dijadikan input dalam tugas klasifikasi (ID customer tidak mempengaruhi apakah customer akan lanjut berlangganan atau tidak\n",
    "df.drop('ID_Customer', axis=1, inplace=True)\n",
    "print(df)"
   ]
  },
  {
   "cell_type": "code",
   "execution_count": 5,
   "id": "315e23e4",
   "metadata": {},
   "outputs": [
    {
     "name": "stdout",
     "output_type": "stream",
     "text": [
      "[1, 1, 0, 0, 0, 1, 1, 0, 1, 0, 1, 1, 1, 0, 0, 1, 1, 1, 1, 1, 1, 0, 1, 1, 0, 0, 0, 1, 0, 1, 1, 0, 1, 0, 1, 0, 1, 1, 1, 1, 0, 0, 0, 1, 1, 0, 0, 1, 0, 1, 1, 0, 1, 0, 1, 1, 0, 0, 1, 1, 1, 0, 1, 1, 0, 0, 0, 1, 0, 0, 1, 1, 0, 0, 1, 0, 0, 0, 0, 1, 1, 0, 1, 0, 0, 0, 0, 1, 1, 1, 0, 1, 1, 0, 0, 1, 0, 1, 1, 0, 1, 1, 0, 0, 1, 0, 1, 1, 1, 0, 0, 1, 1, 0, 1, 0, 0, 0, 1, 1, 1, 0, 0, 1, 1, 1, 0, 1, 1, 1, 0, 1, 1, 0, 1, 0, 1, 0, 1, 1, 1, 1, 1, 0, 1, 1, 1, 1, 0, 0, 1, 1, 1, 1, 0, 1, 1, 1, 0, 0, 1, 0, 0, 0, 1, 0, 1, 0, 1, 1, 1, 0, 0, 0, 0, 1, 1, 0, 0, 1, 1, 0, 0, 0, 1, 0, 0, 0, 1, 1, 1, 0, 1, 1, 1, 1, 1, 1, 0, 0, 1, 1, 0, 0, 1, 1, 0, 1, 0, 0, 0, 0, 0, 0, 1, 0, 0, 0, 1, 0, 1, 0, 1, 1, 0, 1, 1, 1, 0, 0, 0, 0, 1, 1, 0, 1, 1, 0, 1, 0, 1, 0, 0, 1, 0, 1, 1, 0, 1, 0, 1, 1, 1, 0, 0, 0, 1, 1, 0, 0, 0, 1, 1, 1, 0, 1, 0, 0, 0, 1, 0, 1, 1, 0, 1, 0, 0, 1, 0, 1, 0, 1, 0, 1, 0, 1, 0, 0, 1, 1, 1, 0, 1, 1, 1, 0, 1, 0, 1, 1, 0, 1, 1, 0, 1, 1, 0, 0, 1, 0, 1, 1, 1, 0, 1, 1, 0, 0, 0, 1, 0, 1, 1, 1, 0, 1, 0, 0, 0, 1, 1, 1, 1, 0, 0, 0, 0, 0, 0, 0, 1, 0, 1, 0, 1, 0, 1, 1, 1, 0, 0, 0, 1, 1, 0, 1, 1, 1, 1, 0, 1, 0, 0, 0, 0, 1, 1, 0, 0, 1, 1, 0, 1, 1, 1, 0, 1, 1, 1, 0, 1, 1, 1, 0, 1, 0, 1, 1, 0, 0, 1, 0, 1, 1, 0, 1, 0, 1, 0, 0, 1, 0, 0, 0, 0, 0, 1, 0, 1, 1, 0, 1, 1, 0, 0, 0, 1, 0, 0, 0, 0, 0, 0, 0, 0, 1, 1, 0, 1, 0, 0, 1, 0, 1, 0, 1, 1, 0, 1, 0, 0, 0, 1, 1, 0, 0, 0, 0, 1, 1, 1, 0, 0, 0, 1, 1, 1, 0, 0, 1, 0, 1, 0, 1, 1, 0, 1, 1, 1, 0, 1, 0, 1, 1, 1, 1, 1, 0, 0, 1, 1, 1, 1, 1, 0, 0, 0, 1, 1, 1, 0, 0, 0, 0, 1, 1, 1, 0, 1]\n"
     ]
    }
   ],
   "source": [
    "#menyimpan kolom 'churn' sebagai list ke dalam variabel y\n",
    "y = df.pop('churn').to_list()\n",
    "\n",
    "#mengubah nilai 'Yes' menjadi 1 dan nilai 'No' menjadi 0 agar sesuai dengan format yang sebelumnya telah kita bahas\n",
    "y = [1 if label == 'Yes' else 0 for label in y]\n",
    "print(y)"
   ]
  },
  {
   "cell_type": "code",
   "execution_count": 6,
   "id": "d7e595bb",
   "metadata": {},
   "outputs": [
    {
     "name": "stdout",
     "output_type": "stream",
     "text": [
      "Tipe data setiap kolom:\n",
      "-----------------------\n",
      "<class 'pandas.core.frame.DataFrame'>\n",
      "RangeIndex: 499 entries, 0 to 498\n",
      "Data columns (total 8 columns):\n",
      " #   Column                  Non-Null Count  Dtype \n",
      "---  ------                  --------------  ----- \n",
      " 0   Jenis_kelamin           499 non-null    object\n",
      " 1   umur                    499 non-null    int64 \n",
      " 2   membership_program      499 non-null    int64 \n",
      " 3   using_reward            499 non-null    object\n",
      " 4   pembayaran              499 non-null    object\n",
      " 5   Subscribe_brochure      499 non-null    object\n",
      " 6   harga_per_bulan         499 non-null    int64 \n",
      " 7   jumlah_harga_langganan  499 non-null    int64 \n",
      "dtypes: int64(4), object(4)\n",
      "memory usage: 31.3+ KB\n",
      "\n",
      "Kolom dengan tipe data object (kategorikal):\n",
      "--------------------------------------------\n",
      "Laki-laki    263\n",
      "Perempuan    236\n",
      "Name: Jenis_kelamin, dtype: int64\n",
      "===============================\n",
      "No     261\n",
      "Yes    238\n",
      "Name: using_reward, dtype: int64\n",
      "===============================\n",
      "Bank Transfer    195\n",
      "Cash             156\n",
      "Credit Card      148\n",
      "Name: pembayaran, dtype: int64\n",
      "===============================\n",
      "Yes      172\n",
      "Email    167\n",
      "No       160\n",
      "Name: Subscribe_brochure, dtype: int64\n",
      "===============================\n",
      "\n",
      "Statistik deskriptif dari setiap kolom:\n",
      "---------------------------------------\n",
      "             umur  membership_program  harga_per_bulan  jumlah_harga_langganan\n",
      "count  499.000000          499.000000            499.0              499.000000\n",
      "mean    34.981964           19.719439          10000.0           197194.388778\n",
      "std      6.056103           11.470297              0.0           114702.970206\n",
      "min     25.000000            6.000000          10000.0            60000.000000\n",
      "25%     30.000000           12.000000          10000.0           120000.000000\n",
      "50%     35.000000           24.000000          10000.0           240000.000000\n",
      "75%     40.000000           36.000000          10000.0           360000.000000\n",
      "max     45.000000           36.000000          10000.0           360000.000000\n"
     ]
    }
   ],
   "source": [
    "#memeriksa tipe data dari setiap kolom\n",
    "print('Tipe data setiap kolom:')\n",
    "print('-----------------------')\n",
    "df.info()\n",
    "\n",
    "#lakukan pengecekan untuk kolom dengan tipe data 'object' (kategorikal)\n",
    "print('\\nKolom dengan tipe data object (kategorikal):')\n",
    "print('--------------------------------------------')\n",
    "for col in df.select_dtypes(include=['object']):\n",
    "\tprint(df[col].value_counts())\n",
    "\tprint(\"===============================\")\n",
    "\n",
    "#statistik deskriptif dari setiap kolom\n",
    "print('\\nStatistik deskriptif dari setiap kolom:')\n",
    "print('---------------------------------------')\n",
    "print(df.describe())"
   ]
  },
  {
   "cell_type": "code",
   "execution_count": 7,
   "id": "12c11d98",
   "metadata": {},
   "outputs": [
    {
     "name": "stdout",
     "output_type": "stream",
     "text": [
      "<class 'pandas.core.frame.DataFrame'>\n",
      "RangeIndex: 499 entries, 0 to 498\n",
      "Data columns (total 6 columns):\n",
      " #   Column              Non-Null Count  Dtype \n",
      "---  ------              --------------  ----- \n",
      " 0   Jenis_kelamin       499 non-null    object\n",
      " 1   umur                499 non-null    int64 \n",
      " 2   membership_program  499 non-null    int64 \n",
      " 3   using_reward        499 non-null    object\n",
      " 4   pembayaran          499 non-null    object\n",
      " 5   Subscribe_brochure  499 non-null    object\n",
      "dtypes: int64(2), object(4)\n",
      "memory usage: 23.5+ KB\n"
     ]
    }
   ],
   "source": [
    "#membuang kolom 'harga_per_bulan'\n",
    "df.drop('harga_per_bulan', axis=1, inplace=True)\n",
    "\n",
    "#membuang kolom 'jumlah_harga_langganan'\n",
    "df.drop('jumlah_harga_langganan', axis=1, inplace=True)\n",
    "df.info()\n",
    "\n",
    "#note: \n",
    "#jika suatu atribut hanya terdiri atas satu nilai saja, \n",
    "#maka atribut ini dapat dianggap tidak berguna dikarenakan saat mesin melakukan proses pembelajaran, \n",
    "#mesin akan mencari ciri (perbedaan nilai yang dimiliki oleh setiap label). \n",
    "#Saat  nilai dari suatu atribut hanya terdiri dari satu nilai saja, \n",
    "#mesin tidak dapat mempelajari hal apapun berdasarkan ciri tersebut."
   ]
  },
  {
   "cell_type": "code",
   "execution_count": 8,
   "id": "9627dfb2",
   "metadata": {},
   "outputs": [
    {
     "name": "stdout",
     "output_type": "stream",
     "text": [
      "   Jenis_kelamin  umur  membership_program  using_reward     pembayaran  \\\n",
      "0              1    41                  36             0           Cash   \n",
      "1              0    27                  36             1  Bank Transfer   \n",
      "2              0    45                  36             0           Cash   \n",
      "3              1    33                  12             0  Bank Transfer   \n",
      "4              1    38                  12             0           Cash   \n",
      "\n",
      "  Subscribe_brochure  \n",
      "0                 No  \n",
      "1              Email  \n",
      "2                 No  \n",
      "3                Yes  \n",
      "4                 No  \n",
      "   Jenis_kelamin  umur  membership_program  using_reward  \\\n",
      "0              1    41                  36             0   \n",
      "1              0    27                  36             1   \n",
      "2              0    45                  36             0   \n",
      "3              1    33                  12             0   \n",
      "4              1    38                  12             0   \n",
      "\n",
      "   pembayaran_Bank Transfer  pembayaran_Cash  pembayaran_Credit Card  \\\n",
      "0                         0                1                       0   \n",
      "1                         1                0                       0   \n",
      "2                         0                1                       0   \n",
      "3                         1                0                       0   \n",
      "4                         0                1                       0   \n",
      "\n",
      "   Subscribe_brochure_Email  Subscribe_brochure_No  Subscribe_brochure_Yes  \n",
      "0                         0                      1                       0  \n",
      "1                         1                      0                       0  \n",
      "2                         0                      1                       0  \n",
      "3                         0                      0                       1  \n",
      "4                         0                      1                       0  \n"
     ]
    }
   ],
   "source": [
    "#mengimport class LabelEncoder untuk mengubah atribut dengan dua kemungkinan nilai (binary)\n",
    "from sklearn.preprocessing import LabelEncoder\n",
    " \n",
    "#menyiapkan dictionary untuk menyimpan seluruh LabelEncoder untuk setiap atribut kategorikal yang bersifat biner\n",
    "labelers = {}\n",
    " \n",
    "#untuk setiap kolom dengan tipe data 'object' (kategorikal)\n",
    "column_categorical_non_binary = []\n",
    "for col in df.select_dtypes(include=['object']):\n",
    "\t#saat jumlah nilai unik dari suatu kolom sama dengan dua\n",
    "\t#atau dengan kata lain kolom bersifat biner\n",
    "\tif len(df[col].unique()) == 2:\n",
    "\t\t#buat objek LabelEncoder baru untuk kolom dan tampung dalam\n",
    "\t\t#dictionary labelers\n",
    "\t\tlabelers[col] = LabelEncoder()\n",
    "\t\t#meminta objek LabelEncoder untuk mempelajari dan\n",
    "\t\t#mentransformasikan kolom\n",
    "\t\tdf[col] = labelers[col].fit_transform(df[col])\n",
    "\t#untuk kolom bersifat non-biner\n",
    "\telse:\n",
    "\t\t#tambahkan nama kolom ke dalam array yang telah disiapkan\n",
    "\t\tcolumn_categorical_non_binary.append(col)\t\t\n",
    "print(df.head())\n",
    "\n",
    "df = pd.get_dummies(df, columns= column_categorical_non_binary)\n",
    "print(df.head())"
   ]
  },
  {
   "cell_type": "code",
   "execution_count": 9,
   "id": "f23fdd69",
   "metadata": {},
   "outputs": [
    {
     "name": "stdout",
     "output_type": "stream",
     "text": [
      "Dimensi dari variabel X: (499, 10)\n"
     ]
    }
   ],
   "source": [
    "#merepresentasikan seluruh kolom dalam df sebagai matrik dan menampungnya dalam variabel X.\n",
    "X = df.to_numpy()\n",
    " \n",
    "#menampilkan informasi dimensi dari variabel X\n",
    "print(\"Dimensi dari variabel X:\",X.shape)"
   ]
  },
  {
   "cell_type": "code",
   "execution_count": 10,
   "id": "fa2fc75c",
   "metadata": {},
   "outputs": [
    {
     "name": "stdout",
     "output_type": "stream",
     "text": [
      "Dimensi data X mula-mula: (499, 10)\n",
      "Dimensi data y mula-mula: 499 \n",
      "\n",
      "Dimensi data X train: (449, 10)\n",
      "Dimensi data y train: 449 \n",
      "\n",
      "Dimensi data X test: (50, 10)\n",
      "Dimensi data y test: 50 \n",
      "\n"
     ]
    }
   ],
   "source": [
    "#library yang akan kita gunakan untuk membagi dataset\n",
    "from sklearn.model_selection import train_test_split\n",
    " \n",
    "X_train, X_test, y_train, y_test = train_test_split(X,y, test_size=0.1, random_state=23)\n",
    " \n",
    "print(\"Dimensi data X mula-mula:\", X.shape)\n",
    "print(\"Dimensi data y mula-mula:\",len(y),\"\\n\")\n",
    " \n",
    "print(\"Dimensi data X train:\", X_train.shape)\n",
    "print(\"Dimensi data y train:\", len(y_train),\"\\n\")\n",
    " \n",
    "print(\"Dimensi data X test:\", X_test.shape)\n",
    "print(\"Dimensi data y test:\", len(y_test),\"\\n\") "
   ]
  },
  {
   "cell_type": "code",
   "execution_count": 11,
   "id": "ba67968a",
   "metadata": {},
   "outputs": [
    {
     "name": "stdout",
     "output_type": "stream",
     "text": [
      "Memulai melatih 'model'.\n",
      "Selesai melatih 'model'.\n"
     ]
    }
   ],
   "source": [
    "#untuk melakukan proses klasifikasi menggunakan algoritma DecisionTree kita dapat mengimport object 'DecisionTreeClassifier' pada modul 'tree' milik library scikit-learn\n",
    "from sklearn.tree import DecisionTreeClassifier\n",
    " \n",
    "#potongan kode ini dapat kita gunakan untuk menginisialisasi model dengan default parameter yang telah disediakan oleh library perhatikan bahwa parameter random_state hanya digunakan untuk reproducibility seperti layaknya pada fungsi train_test_split\n",
    "model = DecisionTreeClassifier(random_state=57)\n",
    " \n",
    "#meminta model untuk melatih dirinya menggunakan data X_train dan y_train yang telah disiapkan\n",
    "print(\"Memulai melatih 'model'.\")\n",
    "model.fit(X_train, y_train)\n",
    "print(\"Selesai melatih 'model'.\")"
   ]
  },
  {
   "cell_type": "code",
   "execution_count": 12,
   "id": "b442115d",
   "metadata": {},
   "outputs": [
    {
     "name": "stdout",
     "output_type": "stream",
     "text": [
      "[1 0]\n"
     ]
    }
   ],
   "source": [
    "X_new = [\n",
    "\t[1, 36, 12, 0, 0, 1, 0, 0, 0, 1], # <= data pertama\n",
    "\t[0, 23, 24, 1, 1, 0, 0, 0, 1, 0]  # <= data kedua\n",
    "]\n",
    "\n",
    "#melakukan prediksi pada data dalam variabel X_new\n",
    "y_new_pred = model.predict(X_new)\n",
    "print(y_new_pred)"
   ]
  },
  {
   "cell_type": "markdown",
   "id": "05befc6b",
   "metadata": {},
   "source": [
    "Output di atas menandakan bahwa tidak terdapat potensi berhenti berlangganan untuk data kedua dan terdapat potensi berlangganan pada data pertama."
   ]
  },
  {
   "cell_type": "code",
   "execution_count": 13,
   "id": "5167c136",
   "metadata": {},
   "outputs": [
    {
     "name": "stdout",
     "output_type": "stream",
     "text": [
      "Skor akurasi untuk data latih: 0.9710467706013363\n",
      "Skor akurasi untuk data testing: 0.4\n"
     ]
    }
   ],
   "source": [
    "#meng-import fungsi untuk menghitung akurasi pada library scikit-learn\n",
    "from sklearn.metrics import accuracy_score\n",
    "\n",
    "#melakukan prediksi terhadap data latih dan menampung\n",
    "#label hasil prediksi dalam variabel y_pred\n",
    "y_pred = model.predict(X_train)\n",
    "score = accuracy_score(y_train, y_pred)\n",
    "print(\"Skor akurasi untuk data latih:\", score)\n",
    "\n",
    "#melakukan prediksi terhadap data testing dan menampung\n",
    "#label hasil prediksi dalam variabel y_pred\n",
    "y_pred = model.predict(X_test)\n",
    "score = accuracy_score(y_test,y_pred)\n",
    "print(\"Skor akurasi untuk data testing:\", score)"
   ]
  },
  {
   "cell_type": "markdown",
   "id": "ef88c86b",
   "metadata": {},
   "source": [
    "Model klasifikasi yang dikembangkan memiliki memiliki akurasi sebesar 97.10%. Sedangkan data testing model memiliki akurasi 40%.\n",
    "Performa dari model yang telah dilatih akan dibandingkan dengan dengan model cap-cip-cup atau model yang menebak label dari sebuah data yang diberikan secara sembarangan (random guessing).\n",
    "\n",
    "Daripada menggunakan model klasifikasi, status keberlanjutan berlangganan ditentukan secara asal. Untuk proses klasifikasi biner, jika satu dari dua label dipilih secara acak, maka peluang prediksi akan benar sama dengan satu label yang dipilih dibandingkan dengan dua pilihan yang ada (P(true)=1/2 atau 50%)\n",
    "\n",
    "Dari proses data dalam memprediksi data testing di atas, model yang dibuat bahkan memprediksi 10% lebih buruk dibandingkan dengan proses cap-cip-cup! Tapi untuk data latih, model dapat dibilang baik karena model memprediksi 47.10% lebih baik\n",
    "\n",
    "Dalam kasus ini dimana mendapat skor model yang sangat baik untuk data training namun buruk untuk data testing dikarenakan performa pada data testing mencerminkan performa model untuk data-data yang belum pernah ia kenali. Kemudian, saat memanfaatkan model untuk melakukan proses klasifikasi pada data baru, sangat kecil kemungkinan data tersebut tercermin dalam data latih."
   ]
  },
  {
   "cell_type": "code",
   "execution_count": 14,
   "id": "72fa1ce6",
   "metadata": {},
   "outputs": [
    {
     "name": "stdout",
     "output_type": "stream",
     "text": [
      "Skor testing terbaik:  0.58\n",
      "Parameter model: max_depth= 8 , min_samples_split= 32\n"
     ]
    }
   ],
   "source": [
    "from sklearn.metrics import accuracy_score\n",
    "\n",
    "#mendefinisikan nilai dari parameter 'min_samples_split' yang akan dicobakan\n",
    "min_samples_split_search = [2,4,8,16,32,64]\n",
    "\n",
    "#mendefinisikan nilai dari parameter 'max_depth' yang akan dicobakan\n",
    "max_depth_search = [4,8,16,32,64,128]\n",
    "\n",
    "#mendefinisikan variabel untuk menyimpan skor terbaik dari setiap model dengan parameter yang berbeda\n",
    "max_score = 0\n",
    "\n",
    "#mendefinisikan variabel untuk menyimpan model terbaik.\n",
    "best_model = None\n",
    "\n",
    "#mencoba membuat model DecisionTree berdasarkan nilai kombinasi\n",
    "#dari parameter 'min_samples_split' dan 'max_depth'\n",
    "for ms in min_samples_split_search:\n",
    "\tfor md in max_depth_search:\n",
    "\t\t# menginisialisasi model berdasarkan salah satu kombinasi nilai yang ada\n",
    "\t\tmodel = DecisionTreeClassifier(min_samples_split=ms, max_depth=md, random_state=57)\n",
    "\t\t\n",
    "\t\t#melatih model yang telah diinisialisasi dengan data \n",
    "\t\t#X_train dan label y_train\n",
    "\t\tmodel.fit(X_train,y_train)\n",
    "\t\t\n",
    "\t\t#melakukan prediksi terhadap data X_test\n",
    "\t\ty_pred = model.predict(X_test)\n",
    "\t\t\n",
    "\t\t#menghitung skor berdasarkan nilai aktual (y_test) dan (y_pred)\n",
    "\t\tscore = accuracy_score(y_test, y_pred)\n",
    "\t\t\n",
    "\t\t#jika score yang dihasilkan oleh model lebih besar dari skor\n",
    "\t\t#terbesar yang dicatat (max_score), maka\n",
    "\t\tif max_score < score:\n",
    "\t\t\t#simpan model dalam variabel best_model\n",
    "\t\t\tbest_model = model\n",
    "\t\t\t\n",
    "\t\t\t#update max_score menjadi score milik model\n",
    "\t\t\tmax_score = score\n",
    "\t\t\t\n",
    "print(\"Skor testing terbaik: \", max_score)\n",
    "print(\"Parameter model: max_depth=\", \n",
    "      best_model.get_params()['max_depth'], \n",
    "      \", min_samples_split=\",\n",
    "      best_model.get_params()['min_samples_split'])"
   ]
  },
  {
   "cell_type": "markdown",
   "id": "272300b1",
   "metadata": {},
   "source": [
    "Mengetahui bahwa skor pada data testing lebih penting dibanding skor pada data training. Maka dari itu, ia menggunakan variabel “max_score” untuk menyimpan akurasi terbaik untuk data testing seperti yang dapat terlihat pada potongan kode di atas. \n",
    "\n",
    "Melalui proses pencarian parameter terbaik untuk model Decision Tree,berhasil meningkatkan akurasi sampai dengan 18% (dari 40% sampai dengan 58%). Model Decision Tree terbaik dihasilkan saat nilai parameter max_depth sama dengan delapan (8) dan min_samples_split sama dengan 32."
   ]
  }
 ],
 "metadata": {
  "kernelspec": {
   "display_name": "dqlab",
   "language": "python",
   "name": "dqlab"
  },
  "language_info": {
   "codemirror_mode": {
    "name": "ipython",
    "version": 3
   },
   "file_extension": ".py",
   "mimetype": "text/x-python",
   "name": "python",
   "nbconvert_exporter": "python",
   "pygments_lexer": "ipython3",
   "version": "3.10.7"
  }
 },
 "nbformat": 4,
 "nbformat_minor": 5
}
