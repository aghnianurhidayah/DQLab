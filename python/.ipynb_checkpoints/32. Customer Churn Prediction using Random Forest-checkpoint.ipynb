{
 "cells": [
  {
   "cell_type": "code",
   "execution_count": 1,
   "id": "b0ebcb5f",
   "metadata": {},
   "outputs": [],
   "source": [
    "import pandas as pd\n",
    "pd.set_option('display.max_column', 20)"
   ]
  },
  {
   "cell_type": "code",
   "execution_count": 2,
   "id": "b6d9d662",
   "metadata": {},
   "outputs": [],
   "source": [
    "df = pd.read_excel('https://storage.googleapis.com/dqlab-dataset/cth_churn_analysis_train.xlsx')"
   ]
  },
  {
   "cell_type": "code",
   "execution_count": 3,
   "id": "975e6f3d",
   "metadata": {},
   "outputs": [
    {
     "name": "stdout",
     "output_type": "stream",
     "text": [
      "  ID_Customer Jenis_kelamin  umur  membership_program using_reward  \\\n",
      "0   1005-CTMP     Perempuan    41                  36           No   \n",
      "1   1007-STSJ     Laki-laki    27                  36          Yes   \n",
      "2   1012-NCGH     Laki-laki    45                  36           No   \n",
      "3   1014-WWBN     Perempuan    33                  12           No   \n",
      "4   1024-HYUA     Perempuan    38                  12           No   \n",
      "\n",
      "      pembayaran Subscribe_brochure  harga_per_bulan  jumlah_harga_langganan  \\\n",
      "0           Cash                 No            10000                  360000   \n",
      "1  Bank Transfer              Email            10000                  360000   \n",
      "2           Cash                 No            10000                  360000   \n",
      "3  Bank Transfer                Yes            10000                  120000   \n",
      "4           Cash                 No            10000                  120000   \n",
      "\n",
      "  churn  \n",
      "0   Yes  \n",
      "1   Yes  \n",
      "2    No  \n",
      "3    No  \n",
      "4    No  \n"
     ]
    }
   ],
   "source": [
    "print(df.head())"
   ]
  },
  {
   "cell_type": "code",
   "execution_count": 4,
   "id": "823b77e8",
   "metadata": {},
   "outputs": [
    {
     "name": "stdout",
     "output_type": "stream",
     "text": [
      "    Jenis_kelamin  umur  membership_program using_reward     pembayaran  \\\n",
      "0       Perempuan    41                  36           No           Cash   \n",
      "1       Laki-laki    27                  36          Yes  Bank Transfer   \n",
      "2       Laki-laki    45                  36           No           Cash   \n",
      "3       Perempuan    33                  12           No  Bank Transfer   \n",
      "4       Perempuan    38                  12           No           Cash   \n",
      "..            ...   ...                 ...          ...            ...   \n",
      "494     Perempuan    42                  24           No           Cash   \n",
      "495     Perempuan    27                  24          Yes  Bank Transfer   \n",
      "496     Laki-laki    25                   6           No  Bank Transfer   \n",
      "497     Laki-laki    35                   6           No    Credit Card   \n",
      "498     Perempuan    45                  12          Yes           Cash   \n",
      "\n",
      "    Subscribe_brochure  harga_per_bulan  jumlah_harga_langganan churn  \n",
      "0                   No            10000                  360000   Yes  \n",
      "1                Email            10000                  360000   Yes  \n",
      "2                   No            10000                  360000    No  \n",
      "3                  Yes            10000                  120000    No  \n",
      "4                   No            10000                  120000    No  \n",
      "..                 ...              ...                     ...   ...  \n",
      "494                Yes            10000                  240000   Yes  \n",
      "495                Yes            10000                  240000   Yes  \n",
      "496                Yes            10000                   60000   Yes  \n",
      "497              Email            10000                   60000    No  \n",
      "498                 No            10000                  120000   Yes  \n",
      "\n",
      "[499 rows x 9 columns]\n"
     ]
    }
   ],
   "source": [
    "#menghilangkan kolom 'ID_Customer' dari data frame dikarenakan kolom ini tidak relevan untuk dijadikan input dalam tugas klasifikasi (ID customer tidak mempengaruhi apakah customer akan lanjut berlangganan atau tidak\n",
    "df.drop('ID_Customer', axis=1, inplace=True)\n",
    "print(df)"
   ]
  },
  {
   "cell_type": "code",
   "execution_count": 5,
   "id": "21b178a0",
   "metadata": {},
   "outputs": [
    {
     "name": "stdout",
     "output_type": "stream",
     "text": [
      "[1, 1, 0, 0, 0, 1, 1, 0, 1, 0, 1, 1, 1, 0, 0, 1, 1, 1, 1, 1, 1, 0, 1, 1, 0, 0, 0, 1, 0, 1, 1, 0, 1, 0, 1, 0, 1, 1, 1, 1, 0, 0, 0, 1, 1, 0, 0, 1, 0, 1, 1, 0, 1, 0, 1, 1, 0, 0, 1, 1, 1, 0, 1, 1, 0, 0, 0, 1, 0, 0, 1, 1, 0, 0, 1, 0, 0, 0, 0, 1, 1, 0, 1, 0, 0, 0, 0, 1, 1, 1, 0, 1, 1, 0, 0, 1, 0, 1, 1, 0, 1, 1, 0, 0, 1, 0, 1, 1, 1, 0, 0, 1, 1, 0, 1, 0, 0, 0, 1, 1, 1, 0, 0, 1, 1, 1, 0, 1, 1, 1, 0, 1, 1, 0, 1, 0, 1, 0, 1, 1, 1, 1, 1, 0, 1, 1, 1, 1, 0, 0, 1, 1, 1, 1, 0, 1, 1, 1, 0, 0, 1, 0, 0, 0, 1, 0, 1, 0, 1, 1, 1, 0, 0, 0, 0, 1, 1, 0, 0, 1, 1, 0, 0, 0, 1, 0, 0, 0, 1, 1, 1, 0, 1, 1, 1, 1, 1, 1, 0, 0, 1, 1, 0, 0, 1, 1, 0, 1, 0, 0, 0, 0, 0, 0, 1, 0, 0, 0, 1, 0, 1, 0, 1, 1, 0, 1, 1, 1, 0, 0, 0, 0, 1, 1, 0, 1, 1, 0, 1, 0, 1, 0, 0, 1, 0, 1, 1, 0, 1, 0, 1, 1, 1, 0, 0, 0, 1, 1, 0, 0, 0, 1, 1, 1, 0, 1, 0, 0, 0, 1, 0, 1, 1, 0, 1, 0, 0, 1, 0, 1, 0, 1, 0, 1, 0, 1, 0, 0, 1, 1, 1, 0, 1, 1, 1, 0, 1, 0, 1, 1, 0, 1, 1, 0, 1, 1, 0, 0, 1, 0, 1, 1, 1, 0, 1, 1, 0, 0, 0, 1, 0, 1, 1, 1, 0, 1, 0, 0, 0, 1, 1, 1, 1, 0, 0, 0, 0, 0, 0, 0, 1, 0, 1, 0, 1, 0, 1, 1, 1, 0, 0, 0, 1, 1, 0, 1, 1, 1, 1, 0, 1, 0, 0, 0, 0, 1, 1, 0, 0, 1, 1, 0, 1, 1, 1, 0, 1, 1, 1, 0, 1, 1, 1, 0, 1, 0, 1, 1, 0, 0, 1, 0, 1, 1, 0, 1, 0, 1, 0, 0, 1, 0, 0, 0, 0, 0, 1, 0, 1, 1, 0, 1, 1, 0, 0, 0, 1, 0, 0, 0, 0, 0, 0, 0, 0, 1, 1, 0, 1, 0, 0, 1, 0, 1, 0, 1, 1, 0, 1, 0, 0, 0, 1, 1, 0, 0, 0, 0, 1, 1, 1, 0, 0, 0, 1, 1, 1, 0, 0, 1, 0, 1, 0, 1, 1, 0, 1, 1, 1, 0, 1, 0, 1, 1, 1, 1, 1, 0, 0, 1, 1, 1, 1, 1, 0, 0, 0, 1, 1, 1, 0, 0, 0, 0, 1, 1, 1, 0, 1]\n"
     ]
    }
   ],
   "source": [
    "#menyimpan kolom 'churn' sebagai list ke dalam variabel y\n",
    "y = df.pop('churn').to_list()\n",
    "\n",
    "#mengubah nilai 'Yes' menjadi 1 dan nilai 'No' menjadi 0 agar sesuai dengan format yang sebelumnya telah kita bahas\n",
    "y = [1 if label == 'Yes' else 0 for label in y]\n",
    "print(y)"
   ]
  },
  {
   "cell_type": "code",
   "execution_count": 6,
   "id": "15d54de0",
   "metadata": {},
   "outputs": [
    {
     "name": "stdout",
     "output_type": "stream",
     "text": [
      "Tipe data setiap kolom:\n",
      "-----------------------\n",
      "<class 'pandas.core.frame.DataFrame'>\n",
      "RangeIndex: 499 entries, 0 to 498\n",
      "Data columns (total 8 columns):\n",
      " #   Column                  Non-Null Count  Dtype \n",
      "---  ------                  --------------  ----- \n",
      " 0   Jenis_kelamin           499 non-null    object\n",
      " 1   umur                    499 non-null    int64 \n",
      " 2   membership_program      499 non-null    int64 \n",
      " 3   using_reward            499 non-null    object\n",
      " 4   pembayaran              499 non-null    object\n",
      " 5   Subscribe_brochure      499 non-null    object\n",
      " 6   harga_per_bulan         499 non-null    int64 \n",
      " 7   jumlah_harga_langganan  499 non-null    int64 \n",
      "dtypes: int64(4), object(4)\n",
      "memory usage: 31.3+ KB\n",
      "\n",
      "Kolom dengan tipe data object (kategorikal):\n",
      "--------------------------------------------\n",
      "Laki-laki    263\n",
      "Perempuan    236\n",
      "Name: Jenis_kelamin, dtype: int64\n",
      "===============================\n",
      "No     261\n",
      "Yes    238\n",
      "Name: using_reward, dtype: int64\n",
      "===============================\n",
      "Bank Transfer    195\n",
      "Cash             156\n",
      "Credit Card      148\n",
      "Name: pembayaran, dtype: int64\n",
      "===============================\n",
      "Yes      172\n",
      "Email    167\n",
      "No       160\n",
      "Name: Subscribe_brochure, dtype: int64\n",
      "===============================\n",
      "\n",
      "Statistik deskriptif dari setiap kolom:\n",
      "---------------------------------------\n",
      "             umur  membership_program  harga_per_bulan  jumlah_harga_langganan\n",
      "count  499.000000          499.000000            499.0              499.000000\n",
      "mean    34.981964           19.719439          10000.0           197194.388778\n",
      "std      6.056103           11.470297              0.0           114702.970206\n",
      "min     25.000000            6.000000          10000.0            60000.000000\n",
      "25%     30.000000           12.000000          10000.0           120000.000000\n",
      "50%     35.000000           24.000000          10000.0           240000.000000\n",
      "75%     40.000000           36.000000          10000.0           360000.000000\n",
      "max     45.000000           36.000000          10000.0           360000.000000\n"
     ]
    }
   ],
   "source": [
    "#memeriksa tipe data dari setiap kolom\n",
    "print('Tipe data setiap kolom:')\n",
    "print('-----------------------')\n",
    "df.info()\n",
    "\n",
    "#lakukan pengecekan untuk kolom dengan tipe data 'object' (kategorikal)\n",
    "print('\\nKolom dengan tipe data object (kategorikal):')\n",
    "print('--------------------------------------------')\n",
    "for col in df.select_dtypes(include=['object']):\n",
    "\tprint(df[col].value_counts())\n",
    "\tprint(\"===============================\")\n",
    "\n",
    "#statistik deskriptif dari setiap kolom\n",
    "print('\\nStatistik deskriptif dari setiap kolom:')\n",
    "print('---------------------------------------')\n",
    "print(df.describe())"
   ]
  },
  {
   "cell_type": "code",
   "execution_count": 7,
   "id": "e891670e",
   "metadata": {},
   "outputs": [
    {
     "name": "stdout",
     "output_type": "stream",
     "text": [
      "<class 'pandas.core.frame.DataFrame'>\n",
      "RangeIndex: 499 entries, 0 to 498\n",
      "Data columns (total 6 columns):\n",
      " #   Column              Non-Null Count  Dtype \n",
      "---  ------              --------------  ----- \n",
      " 0   Jenis_kelamin       499 non-null    object\n",
      " 1   umur                499 non-null    int64 \n",
      " 2   membership_program  499 non-null    int64 \n",
      " 3   using_reward        499 non-null    object\n",
      " 4   pembayaran          499 non-null    object\n",
      " 5   Subscribe_brochure  499 non-null    object\n",
      "dtypes: int64(2), object(4)\n",
      "memory usage: 23.5+ KB\n"
     ]
    }
   ],
   "source": [
    "#membuang kolom 'harga_per_bulan'\n",
    "df.drop('harga_per_bulan', axis=1, inplace=True)\n",
    "\n",
    "#membuang kolom 'jumlah_harga_langganan'\n",
    "df.drop('jumlah_harga_langganan', axis=1, inplace=True)\n",
    "df.info()\n",
    "\n",
    "#note: \n",
    "#jika suatu atribut hanya terdiri atas satu nilai saja, \n",
    "#maka atribut ini dapat dianggap tidak berguna dikarenakan saat mesin melakukan proses pembelajaran, \n",
    "#mesin akan mencari ciri (perbedaan nilai yang dimiliki oleh setiap label). \n",
    "#Saat  nilai dari suatu atribut hanya terdiri dari satu nilai saja, \n",
    "#mesin tidak dapat mempelajari hal apapun berdasarkan ciri tersebut."
   ]
  },
  {
   "cell_type": "code",
   "execution_count": 8,
   "id": "4051f39f",
   "metadata": {},
   "outputs": [
    {
     "name": "stdout",
     "output_type": "stream",
     "text": [
      "   Jenis_kelamin  umur  membership_program  using_reward     pembayaran  \\\n",
      "0              1    41                  36             0           Cash   \n",
      "1              0    27                  36             1  Bank Transfer   \n",
      "2              0    45                  36             0           Cash   \n",
      "3              1    33                  12             0  Bank Transfer   \n",
      "4              1    38                  12             0           Cash   \n",
      "\n",
      "  Subscribe_brochure  \n",
      "0                 No  \n",
      "1              Email  \n",
      "2                 No  \n",
      "3                Yes  \n",
      "4                 No  \n",
      "   Jenis_kelamin  umur  membership_program  using_reward  \\\n",
      "0              1    41                  36             0   \n",
      "1              0    27                  36             1   \n",
      "2              0    45                  36             0   \n",
      "3              1    33                  12             0   \n",
      "4              1    38                  12             0   \n",
      "\n",
      "   pembayaran_Bank Transfer  pembayaran_Cash  pembayaran_Credit Card  \\\n",
      "0                         0                1                       0   \n",
      "1                         1                0                       0   \n",
      "2                         0                1                       0   \n",
      "3                         1                0                       0   \n",
      "4                         0                1                       0   \n",
      "\n",
      "   Subscribe_brochure_Email  Subscribe_brochure_No  Subscribe_brochure_Yes  \n",
      "0                         0                      1                       0  \n",
      "1                         1                      0                       0  \n",
      "2                         0                      1                       0  \n",
      "3                         0                      0                       1  \n",
      "4                         0                      1                       0  \n"
     ]
    }
   ],
   "source": [
    "#mengimport class LabelEncoder untuk mengubah atribut dengan dua kemungkinan nilai (binary)\n",
    "from sklearn.preprocessing import LabelEncoder\n",
    " \n",
    "#menyiapkan dictionary untuk menyimpan seluruh LabelEncoder untuk setiap atribut kategorikal yang bersifat biner\n",
    "labelers = {}\n",
    " \n",
    "#untuk setiap kolom dengan tipe data 'object' (kategorikal)\n",
    "column_categorical_non_binary = []\n",
    "for col in df.select_dtypes(include=['object']):\n",
    "\t#saat jumlah nilai unik dari suatu kolom sama dengan dua\n",
    "\t#atau dengan kata lain kolom bersifat biner\n",
    "\tif len(df[col].unique()) == 2:\n",
    "\t\t#buat objek LabelEncoder baru untuk kolom dan tampung dalam\n",
    "\t\t#dictionary labelers\n",
    "\t\tlabelers[col] = LabelEncoder()\n",
    "\t\t#meminta objek LabelEncoder untuk mempelajari dan\n",
    "\t\t#mentransformasikan kolom\n",
    "\t\tdf[col] = labelers[col].fit_transform(df[col])\n",
    "\t#untuk kolom bersifat non-biner\n",
    "\telse:\n",
    "\t\t#tambahkan nama kolom ke dalam array yang telah disiapkan\n",
    "\t\tcolumn_categorical_non_binary.append(col)\t\t\n",
    "print(df.head())\n",
    "\n",
    "df = pd.get_dummies(df, columns= column_categorical_non_binary)\n",
    "print(df.head())"
   ]
  },
  {
   "cell_type": "code",
   "execution_count": 9,
   "id": "065d9f8e",
   "metadata": {},
   "outputs": [
    {
     "name": "stdout",
     "output_type": "stream",
     "text": [
      "Dimensi dari variabel X: (499, 10)\n"
     ]
    }
   ],
   "source": [
    "#merepresentasikan seluruh kolom dalam df sebagai matrik dan menampungnya dalam variabel X.\n",
    "X = df.to_numpy()\n",
    " \n",
    "#menampilkan informasi dimensi dari variabel X\n",
    "print(\"Dimensi dari variabel X:\",X.shape)"
   ]
  },
  {
   "cell_type": "code",
   "execution_count": 10,
   "id": "4b2ee482",
   "metadata": {},
   "outputs": [
    {
     "name": "stdout",
     "output_type": "stream",
     "text": [
      "Dimensi data X mula-mula: (499, 10)\n",
      "Dimensi data y mula-mula: 499 \n",
      "\n",
      "Dimensi data X train: (449, 10)\n",
      "Dimensi data y train: 449 \n",
      "\n",
      "Dimensi data X test: (50, 10)\n",
      "Dimensi data y test: 50 \n",
      "\n"
     ]
    }
   ],
   "source": [
    "#library yang akan kita gunakan untuk membagi dataset\n",
    "from sklearn.model_selection import train_test_split\n",
    " \n",
    "X_train, X_test, y_train, y_test = train_test_split(X,y, test_size=0.1, random_state=23)\n",
    " \n",
    "print(\"Dimensi data X mula-mula:\", X.shape)\n",
    "print(\"Dimensi data y mula-mula:\",len(y),\"\\n\")\n",
    " \n",
    "print(\"Dimensi data X train:\", X_train.shape)\n",
    "print(\"Dimensi data y train:\", len(y_train),\"\\n\")\n",
    " \n",
    "print(\"Dimensi data X test:\", X_test.shape)\n",
    "print(\"Dimensi data y test:\", len(y_test),\"\\n\") "
   ]
  },
  {
   "cell_type": "code",
   "execution_count": 11,
   "id": "c06cd287",
   "metadata": {},
   "outputs": [
    {
     "name": "stdout",
     "output_type": "stream",
     "text": [
      "Akurasi untuk data training:  0.9710467706013363\n",
      "Akurasi untuk data testing:  0.48\n"
     ]
    }
   ],
   "source": [
    "#metode RandomForestClassifier dapat diakses pada library\n",
    "#scikit-learn, tepatnya pada modul ensemble.\n",
    "from sklearn.ensemble import RandomForestClassifier\n",
    "from sklearn.metrics import accuracy_score\n",
    " \n",
    "#menginisialisasi model dengan default parameter\n",
    "model = RandomForestClassifier(random_state=57)\n",
    " \n",
    "#melatih model dengan menggunakan data training\n",
    "model.fit(X_train, y_train)\n",
    " \n",
    "#meminta model yang telah dilatih melakukan prediksi\n",
    "#terhadap data latih dan menghitung akurasi prediksi\n",
    "y_pred = model.predict(X_train)\n",
    "score = accuracy_score(y_train, y_pred)\n",
    " \n",
    "print(\"Akurasi untuk data training: \", score)\n",
    "\n",
    "#meminta model yang telah dilatih melakukan prediksi\n",
    "#terhadap data testing dan menghitung akurasi prediksi\n",
    "y_pred = model.predict(X_test)\n",
    "score = accuracy_score(y_test, y_pred)\n",
    " \n",
    "print(\"Akurasi untuk data testing: \", score)"
   ]
  },
  {
   "cell_type": "code",
   "execution_count": 13,
   "id": "58e446c3",
   "metadata": {},
   "outputs": [
    {
     "name": "stdout",
     "output_type": "stream",
     "text": [
      "[1 0]\n"
     ]
    }
   ],
   "source": [
    "X_new = [\n",
    "\t[1, 36, 12, 0, 0, 1, 0, 0, 0, 1], # <= data pertama\n",
    "\t[0, 23, 24, 1, 1, 0, 0, 0, 1, 0]  # <= data kedua\n",
    "]\n",
    "\n",
    "#melakukan prediksi pada data dalam variabel X_new\n",
    "y_new_pred = model.predict(X_new)\n",
    "print(y_new_pred)"
   ]
  },
  {
   "cell_type": "code",
   "execution_count": 14,
   "id": "7ca9db72",
   "metadata": {},
   "outputs": [
    {
     "name": "stdout",
     "output_type": "stream",
     "text": [
      "Skor testing terbaik:  0.54\n",
      "Parameter model: max_depth= 6 , min_samples_split= 8 , n_estimators= 50\n"
     ]
    }
   ],
   "source": [
    "#parameter untuk mengatur setiap Decision Tree yang akan dibentuk pada model Random Forest\n",
    "min_samples_split_search = [8, 12, 16, 20,24]\n",
    "max_depth_search = [4,5,6,7,8]\n",
    " \n",
    "#parameter untuk mengatur jumlah model Decision Tree yang akan terbentuk pada model Random Forest\n",
    "n_estimators_search = [10, 25, 50, 75, 100]\n",
    " \n",
    "max_score = 0\n",
    "best_model = None\n",
    "for ms in min_samples_split_search:\n",
    "\tfor md in max_depth_search:\n",
    "\t\tfor ne in n_estimators_search:\n",
    "\t\t\tmodel = RandomForestClassifier(n_estimators = ne, min_samples_split=ms, max_depth=md, random_state=57)\n",
    "\t\t\tmodel.fit(X_train, y_train)\n",
    "\t\t\ty_pred = model.predict(X_test)\n",
    "\t\t\tscore = accuracy_score(y_test,y_pred)\n",
    "\t\t\tif max_score < score:\n",
    "\t\t\t\tbest_model = model\n",
    "\t\t\t\tmax_score = score\n",
    "\n",
    "print(\"Skor testing terbaik: \",max_score)\n",
    "print(\"Parameter model: max_depth=\", \n",
    "      best_model.get_params()['max_depth'], \n",
    "      \", min_samples_split=\",\n",
    "      best_model.get_params()['min_samples_split'],\n",
    "      \", n_estimators=\",\n",
    "      best_model.get_params()['n_estimators']\n",
    "      )"
   ]
  }
 ],
 "metadata": {
  "kernelspec": {
   "display_name": "dqlab",
   "language": "python",
   "name": "dqlab"
  },
  "language_info": {
   "codemirror_mode": {
    "name": "ipython",
    "version": 3
   },
   "file_extension": ".py",
   "mimetype": "text/x-python",
   "name": "python",
   "nbconvert_exporter": "python",
   "pygments_lexer": "ipython3",
   "version": "3.10.7"
  }
 },
 "nbformat": 4,
 "nbformat_minor": 5
}
